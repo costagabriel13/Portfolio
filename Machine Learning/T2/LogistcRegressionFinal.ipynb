{
 "cells": [
  {
   "cell_type": "markdown",
   "metadata": {},
   "source": [
    "#### Referência: https://medium.com/@awjuliani/simple-softmax-in-python-tutorial-d6b4c4ed5c16"
   ]
  },
  {
   "cell_type": "code",
   "execution_count": 1,
   "metadata": {},
   "outputs": [],
   "source": [
    "import numpy as np\n",
    "import pandas as pd\n",
    "import matplotlib.pyplot as plt\n",
    "import scipy.sparse\n",
    "import time\n",
    "from matplotlib import style\n",
    "import itertools as it\n",
    "from sklearn.utils.multiclass import unique_labels\n",
    "from sklearn.metrics import confusion_matrix\n",
    "plt.rcParams['figure.figsize'] = [12, 8]"
   ]
  },
  {
   "cell_type": "code",
   "execution_count": 2,
   "metadata": {},
   "outputs": [],
   "source": [
    "def normalize(z, mean, std, eps=1e-12):\n",
    "    return (z - mean)/(std + eps)"
   ]
  },
  {
   "cell_type": "markdown",
   "metadata": {},
   "source": [
    "### Carregando Dados"
   ]
  },
  {
   "cell_type": "code",
   "execution_count": 3,
   "metadata": {},
   "outputs": [],
   "source": [
    "train = np.load('./mini_cinic10/train.npz')\n",
    "val = np.load('./mini_cinic10/val.npz')\n",
    "test = np.load('./mini_cinic10/test.npz')"
   ]
  },
  {
   "cell_type": "code",
   "execution_count": 4,
   "metadata": {},
   "outputs": [],
   "source": [
    "X_train_norm = normalize(train['xs'], train['xs'].mean(), train['xs'].std()) \n",
    "X_val_norm = normalize(val['xs'], val['xs'].mean(), val['xs'].std()) \n",
    "X_test_norm = normalize(test['xs'], test['xs'].mean(), test['xs'].std())"
   ]
  },
  {
   "cell_type": "code",
   "execution_count": 5,
   "metadata": {},
   "outputs": [],
   "source": [
    "#Train\n",
    "num_rows, num_cols = X_train_norm.shape\n",
    "Y_train = train['ys'][:num_rows]\n",
    "X_train = np.ones((num_rows, num_cols + 1))\n",
    "X_train[:,1:] = X_train_norm[:num_rows]"
   ]
  },
  {
   "cell_type": "code",
   "execution_count": 6,
   "metadata": {},
   "outputs": [],
   "source": [
    "#Validation\n",
    "num_rows, num_cols = X_val_norm.shape\n",
    "Y_val = val['ys'][:num_rows]\n",
    "X_val = np.ones((num_rows, num_cols + 1))\n",
    "X_val[:,1:] = X_val_norm[:num_rows]"
   ]
  },
  {
   "cell_type": "code",
   "execution_count": 7,
   "metadata": {},
   "outputs": [],
   "source": [
    "#Test\n",
    "num_rows, num_cols = X_test_norm.shape\n",
    "Y_test = test['ys'][:num_rows]\n",
    "X_test = np.ones((num_rows, num_cols + 1))\n",
    "X_test[:,1:] = X_test_norm[:num_rows]"
   ]
  },
  {
   "cell_type": "markdown",
   "metadata": {},
   "source": [
    "### Funções"
   ]
  },
  {
   "cell_type": "code",
   "execution_count": 8,
   "metadata": {},
   "outputs": [],
   "source": [
    "def softmax(x):\n",
    "    x -= np.max(x)\n",
    "    sm = (np.exp(x).T / np.sum(np.exp(x), axis=1)).T\n",
    "    return sm"
   ]
  },
  {
   "cell_type": "code",
   "execution_count": 9,
   "metadata": {},
   "outputs": [],
   "source": [
    "def log(z, eps=1e-32):\n",
    "    return np.log(np.maximum(z, eps))"
   ]
  },
  {
   "cell_type": "code",
   "execution_count": 10,
   "metadata": {},
   "outputs": [],
   "source": [
    "def OneHotEncoding(y):\n",
    "    m = y.shape[0]\n",
    "    M = scipy.sparse.csr_matrix((np.ones(m), (y, np.array(range(m)))))\n",
    "    M = np.array(M.todense()).T\n",
    "    return M"
   ]
  },
  {
   "cell_type": "code",
   "execution_count": 11,
   "metadata": {},
   "outputs": [],
   "source": [
    "def ProbsAndPreds(x):\n",
    "    probs = softmax(np.dot(x,theta)) #Aplica softmax para obter a probabilidade\n",
    "    preds = np.argmax(probs,axis=1) #Resultado da predição, retorna o valor relacionado à maior probabilidade\n",
    "    return probs,preds"
   ]
  },
  {
   "cell_type": "code",
   "execution_count": 12,
   "metadata": {},
   "outputs": [],
   "source": [
    "def getLoss(theta,x,y):\n",
    "    m = x.shape[0] #Numero de entradas\n",
    "    y = OneHotEncoding(y) #Transforma as classes de Y de inteiro para vetor de 0s e 1s\n",
    "    prob = ProbsAndPreds(x)[0] \n",
    "    loss = (-1 / m) * np.sum(y * log(prob) + (1-y) * log(1 - prob)) #Erro das probabilidades\n",
    "    grad = (-1 / m) * np.dot(x.T,(y - prob)) #Computa o gradiente para o erro\n",
    "    return loss,grad"
   ]
  },
  {
   "cell_type": "code",
   "execution_count": 13,
   "metadata": {},
   "outputs": [],
   "source": [
    "def random_theta(size1, size2, rand_seed=None):\n",
    "    rand = np.random.RandomState(seed=rand_seed)\n",
    "    sigma = np.sqrt(2/(size1 + size2))\n",
    "    return sigma*rand.randn(size1, size2)"
   ]
  },
  {
   "cell_type": "code",
   "execution_count": 14,
   "metadata": {},
   "outputs": [],
   "source": [
    "def zero_theta(size1, size2):\n",
    "    return np.zeros(shape=(size1, size2)).astype('float32')"
   ]
  },
  {
   "cell_type": "code",
   "execution_count": 15,
   "metadata": {},
   "outputs": [],
   "source": [
    "def accuracy(x, y):\n",
    "    pred = ProbsAndPreds(x)[1]\n",
    "    accuracy = sum(pred == y)/(float(len(y)))\n",
    "    return accuracy"
   ]
  },
  {
   "cell_type": "markdown",
   "metadata": {},
   "source": [
    "### Loop Principal"
   ]
  },
  {
   "cell_type": "code",
   "execution_count": 16,
   "metadata": {},
   "outputs": [
    {
     "name": "stdout",
     "output_type": "stream",
     "text": [
      "0.0%\n",
      "10.0%\n",
      "20.0%\n",
      "30.0%\n",
      "40.0%\n",
      "50.0%\n",
      "60.0%\n",
      "70.0%\n",
      "80.0%\n",
      "90.0%\n",
      "Trainned in 3972.5807135105133 seconds\n"
     ]
    }
   ],
   "source": [
    "theta = random_theta(X_train.shape[1],len(np.unique(Y_train)))\n",
    "epochs = 5000\n",
    "batch = 100\n",
    "iterations = len(Y_train)//batch\n",
    "learningRate = 1e-4\n",
    "train_losses = []\n",
    "val_losses = []\n",
    "start_time = time.time()\n",
    "for i in range(epochs):\n",
    "    for j in range(iterations):\n",
    "        loss,grad = getLoss(theta,X_train[j*batch:(j+1)*batch],Y_train[j*batch:(j+1)*batch])\n",
    "        theta = theta - (learningRate * grad)\n",
    "    train_losses.append(loss)\n",
    "    loss, grad = getLoss(theta, X_val, Y_val)\n",
    "    val_losses.append(loss)\n",
    "    if (i % (epochs/10) == 0):\n",
    "        print(\"{}%\".format(i*100/epochs))\n",
    "total_time = time.time() - start_time\n",
    "print(\"Trainned in {} seconds\".format(total_time))"
   ]
  },
  {
   "cell_type": "code",
   "execution_count": 19,
   "metadata": {},
   "outputs": [
    {
     "data": {
      "text/plain": [
       "Text(0.5, 1.0, 'Loss x Epochs')"
      ]
     },
     "execution_count": 19,
     "metadata": {},
     "output_type": "execute_result"
    },
    {
     "data": {
      "image/png": "[encoded data removed]",
      "text/plain": [
       "<Figure size 432x288 with 1 Axes>"
      ]
     },
     "metadata": {
      "needs_background": "light"
     },
     "output_type": "display_data"
    }
   ],
   "source": [
    "plt.plot(train_losses, label = \"Train\")\n",
    "plt.plot(val_losses, label = \"Validation\")\n",
    "plt.ylabel(\"Loss\")\n",
    "plt.xlabel(\"Epochs\")\n",
    "plt.grid()\n",
    "plt.legend()\n",
    "plt.title(\"Loss x Epochs\")\n",
    "plt.savefig(\"matrix.eps\")"
   ]
  },
  {
   "cell_type": "code",
   "execution_count": 18,
   "metadata": {},
   "outputs": [
    {
     "name": "stdout",
     "output_type": "stream",
     "text": [
      "Training Accuracy: 0.399325\n",
      "Validation Accuracy: 0.329\n",
      "Test Accuracy: 0.3178\n"
     ]
    }
   ],
   "source": [
    "print('Training Accuracy:', accuracy(X_train, Y_train))\n",
    "print('Validation Accuracy:', accuracy(X_val, Y_val))\n",
    "print('Test Accuracy:', accuracy(X_test, Y_test))"
   ]
  },
  {
   "cell_type": "code",
   "execution_count": 20,
   "metadata": {},
   "outputs": [],
   "source": [
    "def plot_confusion_matrix(y_true, y_pred, classes,\n",
    "                          normalize=False,\n",
    "                          title=None,\n",
    "                          cmap=plt.cm.Blues):\n",
    "    \"\"\"\n",
    "    This function prints and plots the confusion matrix.\n",
    "    Normalization can be applied by setting `normalize=True`.\n",
    "    \"\"\"\n",
    "    if not title:\n",
    "        if normalize:\n",
    "            title = 'Normalized confusion matrix'\n",
    "        else:\n",
    "            title = 'Confusion matrix'\n",
    "\n",
    "    # Compute confusion matrix\n",
    "    cm = confusion_matrix(y_true, y_pred)\n",
    "    # Only use the labels that appear in the data\n",
    "    classes = classes[unique_labels(y_true, y_pred)]\n",
    "    if normalize:\n",
    "        cm = cm.astype('float') / cm.sum(axis=1)[:, np.newaxis]\n",
    "        print(\"Normalized confusion matrix\")\n",
    "    else:\n",
    "        print('Confusion matrix')\n",
    "\n",
    "    print(cm)\n",
    "\n",
    "    fig, ax = plt.subplots()\n",
    "    im = ax.imshow(cm, interpolation='nearest', cmap=cmap)\n",
    "    ax.figure.colorbar(im, ax=ax)\n",
    "    # We want to show all ticks...\n",
    "    ax.set(xticks=np.arange(cm.shape[1]),\n",
    "           yticks=np.arange(cm.shape[0]),\n",
    "           # ... and label them with the respective list entries\n",
    "           xticklabels=classes, yticklabels=classes,\n",
    "           title=title,\n",
    "           ylabel='True label',\n",
    "           xlabel='Predicted label')\n",
    "\n",
    "    # Rotate the tick labels and set their alignment.\n",
    "    plt.setp(ax.get_xticklabels(), rotation=45, ha=\"right\",\n",
    "             rotation_mode=\"anchor\")\n",
    "\n",
    "    # Loop over data dimensions and create text annotations.\n",
    "    fmt = '.2f' if normalize else 'd'\n",
    "    thresh = cm.max() / 2.\n",
    "    for i in range(cm.shape[0]):\n",
    "        for j in range(cm.shape[1]):\n",
    "            ax.text(j, i, format(cm[i, j], fmt),\n",
    "                    ha=\"center\", va=\"center\",\n",
    "                    color=\"white\" if cm[i, j] > thresh else \"black\")\n",
    "    fig.tight_layout()\n",
    "    return ax"
   ]
  },
  {
   "cell_type": "code",
   "execution_count": 21,
   "metadata": {},
   "outputs": [
    {
     "name": "stdout",
     "output_type": "stream",
     "text": [
      "Confusion matrix\n",
      "[[507  68  61  20  30  27  12  59 162  85]\n",
      " [ 59 367  43  49  20  44  57  57  74 195]\n",
      " [112  44 184  75  99 102 128  61 106  21]\n",
      " [ 37  72 114 216  56 169 164  64  48  44]\n",
      " [ 58  52 114  83 248 110 135 141  40  60]\n",
      " [ 49  69  91 194  88 176 125 106  54  48]\n",
      " [ 25  50  99 144 103 108 404  54  29  22]\n",
      " [ 38  57  67  73 113  81  54 379  42  91]\n",
      " [194  70  86  44  24  34  29  35 366 123]\n",
      " [100 235  38  26  20  37  42  79 101 331]]\n"
     ]
    },
    {
     "data": {
      "image/png": "[encoded data removed]",
      "text/plain": [
       "<Figure size 432x288 with 2 Axes>"
      ]
     },
     "metadata": {
      "needs_background": "light"
     },
     "output_type": "display_data"
    }
   ],
   "source": [
    "plot_confusion_matrix(Y_test, ProbsAndPreds(X_test)[1], np.unique(Y_test),\n",
    "                          normalize=False,\n",
    "                          title=None,\n",
    "                          cmap=plt.cm.Blues)\n",
    "plt.savefig(\"matrix.eps\")"
   ]
  },
  {
   "cell_type": "markdown",
   "metadata": {},
   "source": [
    "# Neural Network with 1 Hidden Layer"
   ]
  },
  {
   "cell_type": "code",
   "execution_count": null,
   "metadata": {},
   "outputs": [],
   "source": [
    "train = np.load('./mini_cinic10/train.npz')\n",
    "val = np.load('./mini_cinic10/val.npz')"
   ]
  },
  {
   "cell_type": "code",
   "execution_count": null,
   "metadata": {},
   "outputs": [],
   "source": [
    "X_train_norm = normalize(train['xs'], train['xs'].mean(), train['xs'].std()) \n",
    "X_val_norm = normalize(val['xs'], val['xs'].mean(), val['xs'].std()) "
   ]
  },
  {
   "cell_type": "code",
   "execution_count": null,
   "metadata": {},
   "outputs": [],
   "source": [
    "X_train_norm.shape # 80k samples 3072 features"
   ]
  },
  {
   "cell_type": "code",
   "execution_count": null,
   "metadata": {},
   "outputs": [],
   "source": [
    "# Samples\n",
    "num_samples = 500"
   ]
  },
  {
   "cell_type": "code",
   "execution_count": null,
   "metadata": {},
   "outputs": [],
   "source": [
    "# Input Vector\n",
    "a1 = X_train_norm.T[:,:num_samples]"
   ]
  },
  {
   "cell_type": "code",
   "execution_count": null,
   "metadata": {},
   "outputs": [],
   "source": [
    "# Target Vector\n",
    "y = train['ys'][:num_samples]\n",
    "y = OneHotEncoding(y).T"
   ]
  },
  {
   "cell_type": "code",
   "execution_count": null,
   "metadata": {},
   "outputs": [],
   "source": [
    "# Validation Data\n",
    "val_a1 = X_val_norm.T[:,:num_samples]\n",
    "val_y = val['ys'][:num_samples]\n",
    "val_y = OneHotEncoding(val_y).T"
   ]
  },
  {
   "cell_type": "code",
   "execution_count": null,
   "metadata": {},
   "outputs": [],
   "source": [
    "def relu(x):\n",
    "    return np.maximum(0, x)\n",
    "\n",
    "def drelu(x):\n",
    "    return (x > 0).astype(int)\n",
    "\n",
    "def xent(out, y):\n",
    "    return -np.sum(y*log(out))\n",
    "\n",
    "def sm(x):\n",
    "    exps = np.exp(x - np.max(x))\n",
    "    return exps/np.sum(exps)"
   ]
  },
  {
   "cell_type": "code",
   "execution_count": null,
   "metadata": {},
   "outputs": [],
   "source": [
    "# Main Loop\n",
    "epochs = 50\n",
    "\n",
    "# Theta\n",
    "# Theta1 = from input to hidden layer\n",
    "num_features = a1.shape[0]\n",
    "num_hidden_layers = 10**3\n",
    "theta1 = random_theta(num_hidden_layers, num_features)\n",
    "\n",
    "#Theta2 = From Hidden Layer to output layer\n",
    "num_classes = y.shape[0]\n",
    "theta2 = random_theta(num_classes, num_hidden_layers)\n",
    "\n",
    "# Bias\n",
    "b1 = np.random.randn(num_hidden_layers, num_samples)\n",
    "b2 = np.random.randn(num_classes, num_samples)\n",
    "\n",
    "# Learning Rate\n",
    "lr = 0.1\n",
    "\n",
    "# Cost Function History\n",
    "train_c = []\n",
    "val_c = []\n",
    "\n",
    "start_time = time.time()\n",
    "for i in range(epochs):\n",
    "    \n",
    "    # Forwarding\n",
    "    z2 = theta1.dot(a1)+b1\n",
    "    a2 = relu(z2)\n",
    "    z3 = theta2.dot(a2)+b2\n",
    "    a3 = sm(z3)\n",
    "\n",
    "    # Cost Function\n",
    "    train_c.append(xent(a3, y))\n",
    "\n",
    "    val_z2 = theta1.dot(val_a1)+b1\n",
    "    val_a2 = relu(val_z2)\n",
    "    val_z3 = theta2.dot(val_a2)+b2\n",
    "    val_a3 = sm(val_z3)\n",
    "    val_c.append(xent(val_a3, val_y))\n",
    "\n",
    "    # Backpropagation\n",
    "    delta_3 = a3 - y\n",
    "    delta_2 = theta2.T.dot(delta_3) * drelu(z2)\n",
    "\n",
    "    # Gradient\n",
    "    C_theta2 = delta_3.dot(a2.T)\n",
    "    C_theta1 = delta_2.dot(a1.T)\n",
    "\n",
    "    # Learn\n",
    "    theta1 = theta1 - lr * C_theta1/num_samples\n",
    "    theta2 = theta2 - lr * C_theta2/num_samples\n",
    "    b1 = b1 - lr * delta_2/num_samples\n",
    "    b2 = b2 - lr * delta_3/num_samples\n",
    "\n",
    "    if (i % (epochs/10) == 0):\n",
    "        print(\"{}%\".format(i*100/epochs))\n",
    "total_time = time.time() - start_time\n",
    "print(\"Trainned in {} seconds\".format(total_time))"
   ]
  },
  {
   "cell_type": "code",
   "execution_count": null,
   "metadata": {},
   "outputs": [],
   "source": [
    "plt.plot(train_c, \"r\")\n",
    "plt.plot(val_c, \"b\")\n",
    "plt.show()"
   ]
  }
 ],
 "metadata": {
  "kernelspec": {
   "display_name": "Python 3",
   "language": "python",
   "name": "python3"
  },
  "language_info": {
   "codemirror_mode": {
    "name": "ipython",
    "version": 3
   },
   "file_extension": ".py",
   "mimetype": "text/x-python",
   "name": "python",
   "nbconvert_exporter": "python",
   "pygments_lexer": "ipython3",
   "version": "3.7.3"
  }
 },
 "nbformat": 4,
 "nbformat_minor": 2
}
