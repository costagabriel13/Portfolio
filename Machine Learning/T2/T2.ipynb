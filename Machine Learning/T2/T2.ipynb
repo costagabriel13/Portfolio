{
 "cells": [
  {
   "cell_type": "markdown",
   "metadata": {},
   "source": [
    "#### Referência: https://medium.com/@awjuliani/simple-softmax-in-python-tutorial-d6b4c4ed5c16"
   ]
  },
  {
   "cell_type": "code",
   "execution_count": 1,
   "metadata": {},
   "outputs": [],
   "source": [
    "import numpy as np\n",
    "import pandas as pd\n",
    "import matplotlib.pyplot as plt\n",
    "import scipy.sparse\n",
    "import time\n",
    "from matplotlib import style\n",
    "import itertools as it\n",
    "from sklearn.utils.multiclass import unique_labels\n",
    "from sklearn.metrics import confusion_matrix\n",
    "plt.rcParams['figure.figsize'] = [12, 8]\n",
    "style.use('ggplot')"
   ]
  },
  {
   "cell_type": "code",
   "execution_count": 2,
   "metadata": {},
   "outputs": [],
   "source": [
    "def normalize(z, mean, std, eps=1e-12):\n",
    "    return (z - mean)/(std + eps)"
   ]
  },
  {
   "cell_type": "markdown",
   "metadata": {},
   "source": [
    "### Carregando Dados"
   ]
  },
  {
   "cell_type": "code",
   "execution_count": 3,
   "metadata": {},
   "outputs": [],
   "source": [
    "train = np.load('./mini_cinic10/train.npz')\n",
    "val = np.load('./mini_cinic10/val.npz')"
   ]
  },
  {
   "cell_type": "code",
   "execution_count": 4,
   "metadata": {},
   "outputs": [],
   "source": [
    "X_train_norm = normalize(train['xs'], train['xs'].mean(), train['xs'].std()) \n",
    "X_val_norm = normalize(val['xs'], val['xs'].mean(), val['xs'].std()) "
   ]
  },
  {
   "cell_type": "code",
   "execution_count": 6,
   "metadata": {},
   "outputs": [
    {
     "data": {
      "text/plain": [
       "80000"
      ]
     },
     "execution_count": 6,
     "metadata": {},
     "output_type": "execute_result"
    }
   ],
   "source": [
    "#Train\n",
    "num_rows, num_cols = X_train_norm.shape\n",
    "Y_train = train['ys'][:num_rows]\n",
    "X_train = np.ones((num_rows, num_cols + 1))\n",
    "X_train[:,1:] = X_train_norm[:num_rows]\n",
    "num_rows"
   ]
  },
  {
   "cell_type": "code",
   "execution_count": 7,
   "metadata": {},
   "outputs": [
    {
     "data": {
      "text/plain": [
       "array([[ 1.00000000e+00, -2.54956953e-01, -1.75886521e-01, ...,\n",
       "        -1.93157275e-03,  2.96965997e-02,  1.87837462e-01],\n",
       "       [ 1.00000000e+00, -6.51879177e-02,  4.55106860e-02, ...,\n",
       "        -4.93738315e-02, -1.60072435e-01, -2.86585125e-01],\n",
       "       [ 1.00000000e+00,  1.67436157e+00,  2.05389964e+00, ...,\n",
       "         1.56209290e-01,  3.77606497e-01, -5.87052764e-01],\n",
       "       ...,\n",
       "       [ 1.00000000e+00, -1.78892332e+00, -1.78892332e+00, ...,\n",
       "        -1.85217966e+00, -1.85217966e+00, -1.80473740e+00],\n",
       "       [ 1.00000000e+00,  1.94320103e+00,  1.92738695e+00, ...,\n",
       "        -2.86585125e-01, -4.76354160e-01, -7.29379540e-01],\n",
       "       [ 1.00000000e+00,  2.82721980e-01,  9.46913602e-01, ...,\n",
       "        -1.33031482e+00, -1.09310352e+00, -1.63078246e+00]])"
      ]
     },
     "execution_count": 7,
     "metadata": {},
     "output_type": "execute_result"
    }
   ],
   "source": [
    "#Validation\n",
    "num_rows, num_cols = X_val_norm.shape\n",
    "Y_val = val['ys'][:num_rows]\n",
    "X_val = np.ones((num_rows, num_cols + 1))\n",
    "X_val[:,1:] = X_val_norm[:num_rows]\n",
    "X_val"
   ]
  },
  {
   "cell_type": "markdown",
   "metadata": {},
   "source": [
    "### Funções"
   ]
  },
  {
   "cell_type": "code",
   "execution_count": 3,
   "metadata": {},
   "outputs": [],
   "source": [
    "def softmax(x):\n",
    "    x -= np.max(x)\n",
    "    sm = (np.exp(x).T / np.sum(np.exp(x), axis=1)).T\n",
    "    print(np.sum(np.exp(x), axis=1))\n",
    "    return sm"
   ]
  },
  {
   "cell_type": "code",
   "execution_count": 4,
   "metadata": {},
   "outputs": [],
   "source": [
    "def log(z, eps=1e-32):\n",
    "    return np.log(np.maximum(z, eps))"
   ]
  },
  {
   "cell_type": "code",
   "execution_count": 5,
   "metadata": {},
   "outputs": [],
   "source": [
    "def OneHotEncoding(y):\n",
    "    m = y.shape[0]\n",
    "    M = scipy.sparse.csr_matrix((np.ones(m), (y, np.array(range(m)))))\n",
    "    M = np.array(M.todense()).T\n",
    "    return M"
   ]
  },
  {
   "cell_type": "code",
   "execution_count": 6,
   "metadata": {},
   "outputs": [],
   "source": [
    "def ProbsAndPreds(x):\n",
    "    probs = softmax(np.dot(x,theta)) #Aplica softmax para obter a probabilidade\n",
    "    preds = np.argmax(probs,axis=1) #Resultado da predição, retorna o valor relacionado à maior probabilidade\n",
    "    return probs,preds"
   ]
  },
  {
   "cell_type": "code",
   "execution_count": 7,
   "metadata": {},
   "outputs": [],
   "source": [
    "def getLoss(theta,x,y):\n",
    "    m = x.shape[0] #Numero de entradas\n",
    "    y = OneHotEncoding(y) #Transforma as classes de Y de inteiro para vetor de 0s e 1s\n",
    "    prob = ProbsAndPreds(x)[0] \n",
    "    loss = (-1 / m) * np.sum(y * log(prob) + (1-y) * log(1 - prob)) #Erro das probabilidades\n",
    "    grad = (-1 / m) * np.dot(x.T,(y - prob)) #Computa o gradiente para o erro\n",
    "    return loss,grad"
   ]
  },
  {
   "cell_type": "code",
   "execution_count": 8,
   "metadata": {},
   "outputs": [],
   "source": [
    "def random_theta(size1, size2, rand_seed=None):\n",
    "    rand = np.random.RandomState(seed=rand_seed)\n",
    "    sigma = np.sqrt(2/(size1 + size2))\n",
    "    return sigma*rand.randn(size1, size2)"
   ]
  },
  {
   "cell_type": "code",
   "execution_count": 9,
   "metadata": {},
   "outputs": [],
   "source": [
    "def zero_theta(size1, size2):\n",
    "    return np.zeros(shape=(size1, size2)).astype('float32')"
   ]
  },
  {
   "cell_type": "code",
   "execution_count": 10,
   "metadata": {},
   "outputs": [],
   "source": [
    "def accuracy(x, y):\n",
    "    pred = ProbsAndPreds(x)[1]\n",
    "    accuracy = sum(pred == y)/(float(len(y)))\n",
    "    return accuracy"
   ]
  },
  {
   "cell_type": "markdown",
   "metadata": {},
   "source": [
    "### Loop Principal"
   ]
  },
  {
   "cell_type": "code",
   "execution_count": 32,
   "metadata": {},
   "outputs": [
    {
     "name": "stdout",
     "output_type": "stream",
     "text": [
      "0.0%\n",
      "10.0%\n",
      "20.0%\n",
      "30.0%\n",
      "40.0%\n",
      "50.0%\n",
      "60.0%\n",
      "70.0%\n",
      "80.0%\n",
      "90.0%\n",
      "Trainned in 7929.589426040649 seconds\n"
     ]
    }
   ],
   "source": [
    "theta = random_theta(X_train.shape[1],len(np.unique(Y_train)))\n",
    "epochs = 5000\n",
    "batch = 100\n",
    "iterations = len(Y_train)//batch\n",
    "learningRate = 0.02\n",
    "losses = []\n",
    "start_time = time.time()\n",
    "for i in range(epochs):\n",
    "    for j in range(iterations):\n",
    "        loss,grad = getLoss(theta,X_train[j*batch:(j+1)*batch],Y_train[j*batch:(j+1)*batch])\n",
    "        theta = theta - (learningRate * grad)\n",
    "    losses.append(loss)\n",
    "    if (i % (epochs/10) == 0):\n",
    "        print(\"{}%\".format(i*100/epochs))\n",
    "total_time = time.time() - start_time\n",
    "print(\"Trainned in {} seconds\".format(total_time))"
   ]
  },
  {
   "cell_type": "code",
   "execution_count": 33,
   "metadata": {},
   "outputs": [
    {
     "data": {
      "text/plain": [
       "[<matplotlib.lines.Line2D at 0x25c8fce2c18>]"
      ]
     },
     "execution_count": 33,
     "metadata": {},
     "output_type": "execute_result"
    },
    {
     "data": {
      "image/png": "[encoded data removed]",
      "text/plain": [
       "<Figure size 864x576 with 1 Axes>"
      ]
     },
     "metadata": {},
     "output_type": "display_data"
    }
   ],
   "source": [
    "plt.plot(losses)"
   ]
  },
  {
   "cell_type": "code",
   "execution_count": 34,
   "metadata": {},
   "outputs": [
    {
     "name": "stdout",
     "output_type": "stream",
     "text": [
      "Training Accuracy: 0.37495\n",
      "Validation Accuracy: 0.2781\n"
     ]
    }
   ],
   "source": [
    "print('Training Accuracy:', accuracy(X_train, Y_train))\n",
    "print('Validation Accuracy:', accuracy(X_val, Y_val))"
   ]
  },
  {
   "cell_type": "code",
   "execution_count": 35,
   "metadata": {},
   "outputs": [],
   "source": [
    "def plot_confusion_matrix(y_true, y_pred, classes,\n",
    "                          normalize=False,\n",
    "                          title=None,\n",
    "                          cmap=plt.cm.Blues):\n",
    "    \"\"\"\n",
    "    This function prints and plots the confusion matrix.\n",
    "    Normalization can be applied by setting `normalize=True`.\n",
    "    \"\"\"\n",
    "    if not title:\n",
    "        if normalize:\n",
    "            title = 'Normalized confusion matrix'\n",
    "        else:\n",
    "            title = 'Confusion matrix'\n",
    "\n",
    "    # Compute confusion matrix\n",
    "    cm = confusion_matrix(y_true, y_pred)\n",
    "    # Only use the labels that appear in the data\n",
    "    classes = classes[unique_labels(y_true, y_pred)]\n",
    "    if normalize:\n",
    "        cm = cm.astype('float') / cm.sum(axis=1)[:, np.newaxis]\n",
    "        print(\"Normalized confusion matrix\")\n",
    "    else:\n",
    "        print('Confusion matrix')\n",
    "\n",
    "    print(cm)\n",
    "\n",
    "    fig, ax = plt.subplots()\n",
    "    im = ax.imshow(cm, interpolation='nearest', cmap=cmap)\n",
    "    ax.figure.colorbar(im, ax=ax)\n",
    "    # We want to show all ticks...\n",
    "    ax.set(xticks=np.arange(cm.shape[1]),\n",
    "           yticks=np.arange(cm.shape[0]),\n",
    "           # ... and label them with the respective list entries\n",
    "           xticklabels=classes, yticklabels=classes,\n",
    "           title=title,\n",
    "           ylabel='True label',\n",
    "           xlabel='Predicted label')\n",
    "\n",
    "    # Rotate the tick labels and set their alignment.\n",
    "    plt.setp(ax.get_xticklabels(), rotation=45, ha=\"right\",\n",
    "             rotation_mode=\"anchor\")\n",
    "\n",
    "    # Loop over data dimensions and create text annotations.\n",
    "    fmt = '.2f' if normalize else 'd'\n",
    "    thresh = cm.max() / 2.\n",
    "    for i in range(cm.shape[0]):\n",
    "        for j in range(cm.shape[1]):\n",
    "            ax.text(j, i, format(cm[i, j], fmt),\n",
    "                    ha=\"center\", va=\"center\",\n",
    "                    color=\"white\" if cm[i, j] > thresh else \"black\")\n",
    "    fig.tight_layout()\n",
    "    return ax"
   ]
  },
  {
   "cell_type": "code",
   "execution_count": 36,
   "metadata": {},
   "outputs": [
    {
     "name": "stdout",
     "output_type": "stream",
     "text": [
      "Confusion matrix\n",
      "[[5106  281  239  242  139  104   80  194  700  993]\n",
      " [ 896 2934  363  489  207  234  196  380  522 1805]\n",
      " [1489  319 2581  873  627  443  508  367  447  379]\n",
      " [ 636  346 1001 2851  656  745  613  307  363  549]\n",
      " [ 775  246 1051  978 2341  532  517  678  231  610]\n",
      " [ 802  364  969 1357  826 1811  524  475  408  512]\n",
      " [ 391  248 1006 1732  635  591 2563  288  189  312]\n",
      " [ 856  339  555  633  828  393  240 3097  187  846]\n",
      " [2047  394  384  414  208  212  135  159 2675 1368]\n",
      " [1065  893  266  315  165  155  205  352  411 4037]]\n"
     ]
    },
    {
     "data": {
      "text/plain": [
       "<matplotlib.axes._subplots.AxesSubplot at 0x25c8fd126a0>"
      ]
     },
     "execution_count": 36,
     "metadata": {},
     "output_type": "execute_result"
    },
    {
     "data": {
      "image/png": "[encoded data removed]",
      "text/plain": [
       "<Figure size 864x576 with 2 Axes>"
      ]
     },
     "metadata": {},
     "output_type": "display_data"
    }
   ],
   "source": [
    "plot_confusion_matrix(Y_train, ProbsAndPreds(X_train)[1], np.unique(Y_train),\n",
    "                          normalize=False,\n",
    "                          title=None,\n",
    "                          cmap=plt.cm.Blues)"
   ]
  },
  {
   "cell_type": "markdown",
   "metadata": {},
   "source": [
    "# Neural Network with 1 Hidden Layer"
   ]
  },
  {
   "cell_type": "code",
   "execution_count": 104,
   "metadata": {},
   "outputs": [],
   "source": [
    "train = np.load('./mini_cinic10/train.npz')\n",
    "val = np.load('./mini_cinic10/val.npz')"
   ]
  },
  {
   "cell_type": "code",
   "execution_count": 105,
   "metadata": {},
   "outputs": [],
   "source": [
    "X_train_norm = normalize(train['xs'], train['xs'].mean(), train['xs'].std()) \n",
    "X_val_norm = normalize(val['xs'], val['xs'].mean(), val['xs'].std()) "
   ]
  },
  {
   "cell_type": "code",
   "execution_count": 106,
   "metadata": {},
   "outputs": [
    {
     "data": {
      "text/plain": [
       "(80000, 3072)"
      ]
     },
     "execution_count": 106,
     "metadata": {},
     "output_type": "execute_result"
    }
   ],
   "source": [
    "X_train_norm.shape # 80k samples 3072 features"
   ]
  },
  {
   "cell_type": "code",
   "execution_count": 158,
   "metadata": {},
   "outputs": [],
   "source": [
    "# Samples\n",
    "num_samples = 800"
   ]
  },
  {
   "cell_type": "code",
   "execution_count": 159,
   "metadata": {},
   "outputs": [],
   "source": [
    "# Input Vector\n",
    "a1 = X_train_norm.T[:,:num_samples]"
   ]
  },
  {
   "cell_type": "code",
   "execution_count": 160,
   "metadata": {},
   "outputs": [],
   "source": [
    "# Target Vector\n",
    "y = train['ys']\n",
    "y = OneHotEncoding(y).T[:, :num_samples]"
   ]
  },
  {
   "cell_type": "code",
   "execution_count": 161,
   "metadata": {},
   "outputs": [],
   "source": [
    "# Validation Data\n",
    "val_a1 = X_val_norm.T[:,:num_samples]\n",
    "val_y = val['ys'][:num_samples]\n",
    "val_y = OneHotEncoding(val_y).T"
   ]
  },
  {
   "cell_type": "code",
   "execution_count": 162,
   "metadata": {},
   "outputs": [],
   "source": [
    "# Toy Dataset\n",
    "if False:\n",
    "    bits = 5\n",
    "    num_samples=2**bits+1\n",
    "    entry = []\n",
    "    answ = []\n",
    "    for i in range(2**(bits+1)):\n",
    "        bit = format(i, \"#0{}b\".format(bits+3)).replace(\"0b\", \"\")\n",
    "        data_i = []\n",
    "        resp = True\n",
    "        for c in bit:\n",
    "            data_i.append(int(c))\n",
    "            resp = resp and bool(int(c))\n",
    "        entry.append(data_i)\n",
    "        answ.append(int(resp))\n",
    "        \n",
    "    X_train_norm = np.array(entry)\n",
    "    a1 = X_train_norm.T[:,:num_samples]\n",
    "    y = np.array(answ)\n",
    "    y = OneHotEncoding(y).T[:,:num_samples]\n",
    "    val_a1 = a1.copy()\n",
    "    val_y = y.copy()"
   ]
  },
  {
   "cell_type": "code",
   "execution_count": 163,
   "metadata": {},
   "outputs": [],
   "source": [
    "def relu(x):\n",
    "    return np.maximum(0, x)\n",
    "\n",
    "def drelu(x):\n",
    "    return (x > 0).astype(int)\n",
    "\n",
    "def xent(out, y):\n",
    "    return -np.sum(y*log(out))\n",
    "\n",
    "def sm(x):\n",
    "    exps = np.exp(x - np.max(x))\n",
    "    return exps/np.sum(exps)\n",
    "\n",
    "def accur(out, y):\n",
    "    yf = y.T\n",
    "    outf = out.T\n",
    "    m = len(yf)\n",
    "    \n",
    "    correct = 0\n",
    "    for i in range(m):\n",
    "        correct += (outf[i] == yf[0]).all().astype(int)\n",
    "    return correct/m"
   ]
  },
  {
   "cell_type": "code",
   "execution_count": 170,
   "metadata": {},
   "outputs": [],
   "source": [
    "# Parameters\n",
    "EPOCH= 500\n",
    "SEED=42\n",
    "HIDDEN_NODES=300\n",
    "LEARNING_RATE=0.1\n",
    "\n",
    "# GD modes\n",
    "SGD = False         # SGD == False -> Mini-Batch mode\n",
    "MINI_BATCH_SIZE=100 # MINI_BATCH_SIZE = num_samples AND Mini-Batch mode -> Vanilla mode\n",
    "\n",
    "# Optmizers\n",
    "MOMENTUM = False\n",
    "GAMMA = 0.9\n",
    "ADAGRAD = False"
   ]
  },
  {
   "cell_type": "code",
   "execution_count": 171,
   "metadata": {},
   "outputs": [
    {
     "name": "stdout",
     "output_type": "stream",
     "text": [
      "0.0%\n",
      "10.0%\n",
      "20.0%\n",
      "30.0%\n",
      "40.0%\n",
      "50.0%\n",
      "60.0%\n",
      "70.0%\n",
      "80.0%\n",
      "90.0%\n",
      "Trainned in 96.68691897392273 seconds\n",
      "Train Accuracy: 0.0%\n",
      "Train Accuracy: 0.0%\n"
     ]
    }
   ],
   "source": [
    "# Main Loop\n",
    "np.random.seed(SEED)\n",
    "\n",
    "# Theta\n",
    "# Theta1 = from input to hidden layer\n",
    "num_features = a1.shape[0]\n",
    "num_hidden_layers = HIDDEN_NODES\n",
    "theta1 = np.random.randn(num_hidden_layers, num_features)\n",
    "\n",
    "#Theta2 = From Hidden Layer to output layer\n",
    "num_classes = y.shape[0]\n",
    "theta2 = np.random.randn(num_classes, num_hidden_layers)\n",
    "\n",
    "# Bias\n",
    "b1 = np.random.randn(num_hidden_layers, 1)\n",
    "b2 = np.random.randn(num_classes, 1)\n",
    "\n",
    "# Optimizers\n",
    "gamma = GAMMA\n",
    "speed1 = np.zeros((num_hidden_layers, num_features))\n",
    "speed2 = np.zeros((num_classes, num_hidden_layers))\n",
    "\n",
    "cache1 = np.zeros((num_hidden_layers, num_features))\n",
    "cache2 = np.zeros((num_classes, num_hidden_layers))\n",
    "\n",
    "# Learning Rate\n",
    "lr = LEARNING_RATE\n",
    "\n",
    "# Cost Function History\n",
    "train_c = []\n",
    "val_c = []\n",
    "\n",
    "# Mini-Batch Setup\n",
    "epochs = EPOCH\n",
    "if SGD:\n",
    "    mb_size = 1\n",
    "    iterations = num_samples\n",
    "else:\n",
    "    mb_size = MINI_BATCH_SIZE\n",
    "    iterations = y.shape[1]//mb_size-1\n",
    "\n",
    "start_time = time.time()\n",
    "for i in range(epochs):\n",
    "    for j in range(0, iterations+mb_size, mb_size):\n",
    "        if SGD:\n",
    "            rand_idx = np.random.randint(0, num_samples)\n",
    "            mb_a1 = a1[:,rand_idx]\n",
    "            mb_y = y[:,rand_idx]\n",
    "            mb_a1.shape = (mb_a1.shape[0], 1)\n",
    "            mb_y.shape = (mb_y.shape[0], 1)\n",
    "        else:\n",
    "            mb_a1 = a1[:, j:j+mb_size]\n",
    "            mb_y = y[:, j:j+mb_size]\n",
    "            \n",
    "        # Forwarding\n",
    "        z2 = theta1.dot(mb_a1)+b1\n",
    "        a2 = relu(z2)\n",
    "        z3 = theta2.dot(a2)+b2\n",
    "        a3 = sm(z3)\n",
    "\n",
    "        # Backpropagation\n",
    "        delta_3 = a3 - mb_y\n",
    "        delta_2 = theta2.T.dot(delta_3) * drelu(z2)\n",
    "\n",
    "        # Gradient\n",
    "        C_theta2 = delta_3.dot(a2.T)/num_samples\n",
    "        C_theta1 = delta_2.dot(mb_a1.T)/num_samples\n",
    "\n",
    "        # Learn\n",
    "        if MOMENTUM:\n",
    "            speed1 = gamma * speed1 + lr * C_theta1\n",
    "            speed2 = gamma * speed2 + lr * C_theta2\n",
    "            \n",
    "            new_t1 = speed1\n",
    "            new_t2 = speed2\n",
    "            \n",
    "        elif ADAGRAD:\n",
    "            cache1 = cache1 + C_theta1**2\n",
    "            cache2 = cache2 + C_theta2**2\n",
    "            \n",
    "            new_t1 = lr * C_theta1 / np.sqrt(cache1+10**-9)\n",
    "            new_t2 = lr * C_theta2 / np.sqrt(cache2+10**-9)\n",
    "            \n",
    "        else:\n",
    "            new_t1 = lr * C_theta1\n",
    "            new_t2 = lr * C_theta2\n",
    "            \n",
    "        theta1 = theta1 - new_t1\n",
    "        theta2 = theta2 - new_t2\n",
    "\n",
    "        b2 = b2 - lr * np.sum(delta_3, axis=1, keepdims=True)/num_samples\n",
    "        b1 = b1 - lr * np.sum(delta_2, axis=1, keepdims=True)/num_samples\n",
    "        \n",
    "    # Cost Function\n",
    "    z2 = theta1.dot(a1)+b1\n",
    "    a2 = relu(z2)\n",
    "    z3 = theta2.dot(a2)+b2\n",
    "    a3 = sm(z3)\n",
    "    train_c.append(xent(a3, y))\n",
    "\n",
    "    val_z2 = theta1.dot(val_a1)+b1\n",
    "    val_a2 = relu(val_z2)\n",
    "    val_z3 = theta2.dot(val_a2)+b2\n",
    "    val_a3 = sm(val_z3)\n",
    "    val_c.append(xent(val_a3, val_y))\n",
    "\n",
    "    if (i % (epochs/10) == 0):\n",
    "        print(\"{}%\".format(i*100/epochs))\n",
    "total_time = time.time() - start_time\n",
    "print(\"Trainned in {} seconds\".format(total_time))\n",
    "print(\"Train Accuracy: {}%\".format(100*accur(a3, y)))\n",
    "print(\"Train Accuracy: {}%\".format(100*accur(val_a3, val_y)))"
   ]
  },
  {
   "cell_type": "code",
   "execution_count": 172,
   "metadata": {},
   "outputs": [
    {
     "data": {
      "image/png": "[encoded data removed]",
      "text/plain": [
       "<Figure size 432x288 with 1 Axes>"
      ]
     },
     "metadata": {
      "needs_background": "light"
     },
     "output_type": "display_data"
    }
   ],
   "source": [
    "plt.plot(train_c, \"r\")\n",
    "plt.plot(val_c, \"b\")\n",
    "plt.xlabel(\"Epoch\")\n",
    "plt.ylabel(\"Loss\")\n",
    "plt.title(\"Loss vs Epoch\")\n",
    "plt.legend((\"Train\",\"Validation\"))\n",
    "plt.savefig(\"loss.eps\")"
   ]
  },
  {
   "cell_type": "markdown",
   "metadata": {},
   "source": [
    "# Neural Network with 2 Hidden Layer"
   ]
  },
  {
   "cell_type": "code",
   "execution_count": 11,
   "metadata": {},
   "outputs": [],
   "source": [
    "train = np.load('./mini_cinic10/train.npz')\n",
    "val = np.load('./mini_cinic10/val.npz')"
   ]
  },
  {
   "cell_type": "code",
   "execution_count": 12,
   "metadata": {},
   "outputs": [],
   "source": [
    "X_train_norm = normalize(train['xs'], train['xs'].mean(), train['xs'].std()) \n",
    "X_val_norm = normalize(val['xs'], val['xs'].mean(), val['xs'].std()) "
   ]
  },
  {
   "cell_type": "code",
   "execution_count": 13,
   "metadata": {},
   "outputs": [
    {
     "data": {
      "text/plain": [
       "(80000, 3072)"
      ]
     },
     "execution_count": 13,
     "metadata": {},
     "output_type": "execute_result"
    }
   ],
   "source": [
    "X_train_norm.shape # 80k samples 3072 features"
   ]
  },
  {
   "cell_type": "code",
   "execution_count": 14,
   "metadata": {},
   "outputs": [],
   "source": [
    "# Samples\n",
    "num_samples = 80000"
   ]
  },
  {
   "cell_type": "code",
   "execution_count": 15,
   "metadata": {},
   "outputs": [],
   "source": [
    "# Input Vector\n",
    "a1 = X_train_norm.T[:,:num_samples]"
   ]
  },
  {
   "cell_type": "code",
   "execution_count": 16,
   "metadata": {},
   "outputs": [],
   "source": [
    "# Target Vector\n",
    "y = train['ys']\n",
    "y = OneHotEncoding(y).T[:, :num_samples]"
   ]
  },
  {
   "cell_type": "code",
   "execution_count": 17,
   "metadata": {},
   "outputs": [],
   "source": [
    "# Validation Data\n",
    "val_a1 = X_val_norm.T[:,:num_samples]\n",
    "val_y = val['ys'][:num_samples]\n",
    "val_y = OneHotEncoding(val_y).T"
   ]
  },
  {
   "cell_type": "code",
   "execution_count": 19,
   "metadata": {},
   "outputs": [],
   "source": [
    "# Toy Dataset\n",
    "if False:\n",
    "    bits = 5\n",
    "    num_samples=2**bits+1\n",
    "    entry = []\n",
    "    answ = []\n",
    "    for i in range(2**(bits+1)):\n",
    "        bit = format(i, \"#0{}b\".format(bits+3)).replace(\"0b\", \"\")\n",
    "        data_i = []\n",
    "        resp = True\n",
    "        for c in bit:\n",
    "            data_i.append(int(c))\n",
    "            resp = resp and bool(int(c))\n",
    "        entry.append(data_i)\n",
    "        answ.append(int(resp))\n",
    "        \n",
    "    X_train_norm = np.array(entry)\n",
    "    a1 = X_train_norm.T[:,:num_samples]\n",
    "    y = np.array(answ)\n",
    "    y = OneHotEncoding(y).T[:,:num_samples]\n",
    "    val_a1 = a1.copy()\n",
    "    val_y = y.copy()"
   ]
  },
  {
   "cell_type": "code",
   "execution_count": 107,
   "metadata": {},
   "outputs": [],
   "source": [
    "# Parameters\n",
    "EPOCH= 45\n",
    "SEED=42\n",
    "HIDDEN_NODES1=10\n",
    "HIDDEN_NODES2=10\n",
    "LEARNING_RATE=0.001\n",
    "\n",
    "# GD modes\n",
    "SGD = False         # SGD == False -> Mini-Batch mode\n",
    "MINI_BATCH_SIZE=800 # MINI_BATCH_SIZE = num_samples AND Mini-Batch mode -> Vanilla mode\n",
    "\n",
    "# Optmizers\n",
    "MOMENTUM = False\n",
    "GAMMA = 0.9\n",
    "ADAGRAD = False"
   ]
  },
  {
   "cell_type": "code",
   "execution_count": 108,
   "metadata": {},
   "outputs": [
    {
     "name": "stdout",
     "output_type": "stream",
     "text": [
      "0.0%\n",
      "20.0%\n",
      "40.0%\n",
      "60.0%\n",
      "80.0%\n",
      "Trainned in 33.65505242347717 seconds\n"
     ]
    }
   ],
   "source": [
    "# Main Loop\n",
    "np.random.seed(SEED)\n",
    "\n",
    "# Theta\n",
    "# Theta1 = from input to hidden layer\n",
    "num_features = a1.shape[0]\n",
    "num_hidden_layers1 = HIDDEN_NODES1\n",
    "theta1 = np.random.randn(num_hidden_layers1, num_features)\n",
    "\n",
    "#Theta2 = From Hidden Layer 1 to Hidden Layer 2\n",
    "num_hidden_layers2 = HIDDEN_NODES2\n",
    "theta2 = np.random.randn(num_hidden_layers2, num_hidden_layers1)\n",
    "\n",
    "#Theta3 = From Hidden Layer 2 to output layer\n",
    "num_classes = y.shape[0]\n",
    "theta3 = np.random.randn(num_classes, num_hidden_layers2)\n",
    "\n",
    "# Bias\n",
    "b1 = np.random.randn(num_hidden_layers1, 1)\n",
    "b2 = np.random.randn(num_hidden_layers2, 1)\n",
    "b3 = np.random.randn(num_classes, 1)\n",
    "\n",
    "# Optimizers\n",
    "gamma = GAMMA\n",
    "speed1 = np.zeros((num_hidden_layers1, num_features))\n",
    "speed2 = np.zeros((num_hidden_layers2, num_hidden_layers1))\n",
    "speed3 = np.zeros((num_classes, num_hidden_layers2))\n",
    "\n",
    "cache1 = np.zeros((num_hidden_layers1, num_features))\n",
    "cache2 = np.zeros((num_hidden_layers2, num_hidden_layers1))\n",
    "cache3 = np.zeros((num_classes, num_hidden_layers2))\n",
    "\n",
    "# Learning Rate\n",
    "lr = LEARNING_RATE\n",
    "\n",
    "# Cost Function History\n",
    "train_c = []\n",
    "val_c = []\n",
    "\n",
    "# Mini-Batch Setup\n",
    "epochs = EPOCH\n",
    "if SGD:\n",
    "    mb_size = 1\n",
    "    iterations = num_samples\n",
    "else:\n",
    "    mb_size = MINI_BATCH_SIZE\n",
    "    iterations = y.shape[1]//mb_size\n",
    "\n",
    "start_time = time.time()\n",
    "for i in range(epochs):\n",
    "    for j in range(0, iterations+mb_size, mb_size):\n",
    "        if SGD:\n",
    "            rand_idx = np.random.randint(0, num_samples)\n",
    "            mb_a1 = a1[:,rand_idx]\n",
    "            mb_y = y[:,rand_idx]\n",
    "            mb_a1.shape = (mb_a1.shape[0], 1)\n",
    "            mb_y.shape = (mb_y.shape[0], 1)\n",
    "        else:\n",
    "            mb_a1 = a1[:, j:j+mb_size]\n",
    "            mb_y = y[:, j:j+mb_size]\n",
    "        \n",
    "        # Forwarding\n",
    "        z2 = theta1.dot(mb_a1)+b1\n",
    "        a2 = relu(z2)\n",
    "        z3 = theta2.dot(a2)+b2\n",
    "        a3 = relu(z3)\n",
    "        z4 = theta3.dot(a3)+b3\n",
    "        a4 = sm(z4)\n",
    "\n",
    "        # Backpropagation\n",
    "        delta_4 = a4 - mb_y\n",
    "        delta_3 = theta3.T.dot(delta_4) * drelu(z3)\n",
    "        delta_2 = theta2.T.dot(delta_3) * drelu(z2)\n",
    "\n",
    "        # Gradient\n",
    "        C_theta3 = delta_4.dot(a3.T)/num_samples\n",
    "        C_theta2 = delta_3.dot(a2.T)/num_samples\n",
    "        C_theta1 = delta_2.dot(mb_a1.T)/num_samples\n",
    "\n",
    "        # Learn\n",
    "        if MOMENTUM:\n",
    "            speed1 = gamma * speed1 + lr * C_theta1\n",
    "            speed2 = gamma * speed2 + lr * C_theta2\n",
    "            speed3 = gamma * speed3 + lr * C_theta3\n",
    "            \n",
    "            new_t1 = speed1\n",
    "            new_t2 = speed2\n",
    "            new_t3 = speed3\n",
    "            \n",
    "        elif ADAGRAD:\n",
    "            cache1 = cache1 + C_theta1**2\n",
    "            cache2 = cache2 + C_theta2**2\n",
    "            cache3 = cache3 + C_theta3**2\n",
    "            \n",
    "            new_t1 = lr * C_theta1 / np.sqrt(cache1+10**-9)\n",
    "            new_t2 = lr * C_theta2 / np.sqrt(cache2+10**-9)\n",
    "            new_t3 = lr * C_theta3 / np.sqrt(cache3+10**-9)\n",
    "            \n",
    "        else:\n",
    "            new_t1 = lr * C_theta1\n",
    "            new_t2 = lr * C_theta2\n",
    "            new_t3 = lr * C_theta3\n",
    "        \n",
    "        theta1 = theta1 - new_t1\n",
    "        theta2 = theta2 - new_t2\n",
    "        theta3 = theta3 - new_t3\n",
    "\n",
    "        b3 = b3 - lr * np.sum(delta_4, axis=1, keepdims=True)/num_samples\n",
    "        b2 = b2 - lr * np.sum(delta_3, axis=1, keepdims=True)/num_samples\n",
    "        b1 = b1 - lr * np.sum(delta_2, axis=1, keepdims=True)/num_samples\n",
    "        \n",
    "    # Cost Function\n",
    "    z2 = theta1.dot(a1)+b1\n",
    "    a2 = relu(z2)\n",
    "    z3 = theta2.dot(a2)+b2\n",
    "    a3 = relu(z3)\n",
    "    z4 = theta3.dot(a3)+b3\n",
    "    a4 = sm(z4)\n",
    "    train_c.append(xent(a4, y))\n",
    "\n",
    "    val_z2 = theta1.dot(val_a1)+b1\n",
    "    val_a2 = relu(val_z2)\n",
    "    val_z3 = theta2.dot(val_a2)+b2\n",
    "    val_a3 = relu(val_z3)\n",
    "    val_z4 = theta3.dot(val_a3)+b3\n",
    "    val_a4 = sm(val_z4)\n",
    "    val_c.append(xent(val_a4, val_y))\n",
    "\n",
    "    if (i % (epochs/10) == 0):\n",
    "        print(\"{}%\".format(i*100/epochs))\n",
    "total_time = time.time() - start_time\n",
    "print(\"Trainned in {} seconds\".format(total_time))\n",
    "print(\"Train Accuracy: {}%\".format(100*accur(a4, y)))\n",
    "print(\"Train Accuracy: {}%\".format(100*accur(val_a4, val_y)))"
   ]
  },
  {
   "cell_type": "code",
   "execution_count": 111,
   "metadata": {},
   "outputs": [
    {
     "data": {
      "image/png": "[encoded data removed]",
      "text/plain": [
       "<Figure size 432x288 with 1 Axes>"
      ]
     },
     "metadata": {
      "needs_background": "light"
     },
     "output_type": "display_data"
    }
   ],
   "source": [
    "plt.plot(train_c, \"r\")\n",
    "plt.plot(val_c, \"b\")\n",
    "plt.xlabel(\"Epoch\")\n",
    "plt.ylabel(\"Loss\")\n",
    "plt.title(\"Loss vs Epoch\")\n",
    "plt.legend((\"Train\",\"Validation\"))\n",
    "plt.savefig(\"loss.eps\")"
   ]
  }
 ],
 "metadata": {
  "kernelspec": {
   "display_name": "Python 3",
   "language": "python",
   "name": "python3"
  },
  "language_info": {
   "codemirror_mode": {
    "name": "ipython",
    "version": 3
   },
   "file_extension": ".py",
   "mimetype": "text/x-python",
   "name": "python",
   "nbconvert_exporter": "python",
   "pygments_lexer": "ipython3",
   "version": "3.7.3"
  }
 },
 "nbformat": 4,
 "nbformat_minor": 2
}
