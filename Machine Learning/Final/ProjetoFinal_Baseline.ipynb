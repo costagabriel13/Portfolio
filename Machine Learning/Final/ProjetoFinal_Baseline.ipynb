{
 "cells": [
  {
   "cell_type": "code",
   "execution_count": 58,
   "metadata": {},
   "outputs": [
    {
     "name": "stdout",
     "output_type": "stream",
     "text": [
      "[(0, b'apple_pie'), (1, b'baby_back_ribs'), (2, b'baklava'), (3, b'beef_carpaccio'), (4, b'beef_tartare'), (5, b'beet_salad'), (6, b'beignets'), (7, b'bibimbap'), (8, b'bread_pudding'), (9, b'breakfast_burrito'), (10, b'bruschetta'), (11, b'caesar_salad'), (12, b'cannoli'), (13, b'caprese_salad'), (14, b'carrot_cake'), (15, b'ceviche'), (16, b'cheese_plate'), (17, b'cheesecake'), (18, b'chicken_curry'), (19, b'chicken_quesadilla'), (20, b'chicken_wings'), (21, b'chocolate_cake'), (22, b'chocolate_mousse'), (23, b'churros'), (24, b'clam_chowder'), (25, b'club_sandwich'), (26, b'crab_cakes'), (27, b'creme_brulee'), (28, b'croque_madame'), (29, b'cup_cakes'), (30, b'deviled_eggs'), (31, b'donuts'), (32, b'dumplings'), (33, b'edamame'), (34, b'eggs_benedict'), (35, b'escargots'), (36, b'falafel'), (37, b'filet_mignon'), (38, b'fish_and_chips'), (39, b'foie_gras'), (40, b'french_fries'), (41, b'french_onion_soup'), (42, b'french_toast'), (43, b'fried_calamari'), (44, b'fried_rice'), (45, b'frozen_yogurt'), (46, b'garlic_bread'), (47, b'gnocchi'), (48, b'greek_salad'), (49, b'grilled_cheese_sandwich'), (50, b'grilled_salmon'), (51, b'guacamole'), (52, b'gyoza'), (53, b'hamburger'), (54, b'hot_and_sour_soup'), (55, b'hot_dog'), (56, b'huevos_rancheros'), (57, b'hummus'), (58, b'ice_cream'), (59, b'lasagna'), (60, b'lobster_bisque'), (61, b'lobster_roll_sandwich'), (62, b'macaroni_and_cheese'), (63, b'macarons'), (64, b'miso_soup'), (65, b'mussels'), (66, b'nachos'), (67, b'omelette'), (68, b'onion_rings'), (69, b'oysters'), (70, b'pad_thai'), (71, b'paella'), (72, b'pancakes'), (73, b'panna_cotta'), (74, b'peking_duck'), (75, b'pho'), (76, b'pizza'), (77, b'pork_chop'), (78, b'poutine'), (79, b'prime_rib'), (80, b'pulled_pork_sandwich'), (81, b'ramen'), (82, b'ravioli'), (83, b'red_velvet_cake'), (84, b'risotto'), (85, b'samosa'), (86, b'sashimi'), (87, b'scallops'), (88, b'seaweed_salad'), (89, b'shrimp_and_grits'), (90, b'spaghetti_bolognese'), (91, b'spaghetti_carbonara'), (92, b'spring_rolls'), (93, b'steak'), (94, b'strawberry_shortcake'), (95, b'sushi'), (96, b'tacos'), (97, b'takoyaki'), (98, b'tiramisu'), (99, b'tuna_tartare'), (100, b'waffles')]\n"
     ]
    }
   ],
   "source": [
    "import h5py\n",
    "import numpy as np\n",
    "filename = 'food_c101_n10099_r32x32x3.h5'\n",
    "\n",
    "with h5py.File(filename, 'r') as f:\n",
    "    # List all groups\n",
    "    images = list(f.keys())[2]\n",
    "    names = list(f.keys())[1]\n",
    "    category = list(f.keys())[0]\n",
    "\n",
    "    # Get the data\n",
    "    #print(f[a_group_key][0])\n",
    "    print(list([(i, name) for i, name in enumerate(f[names])]))\n",
    "    data = np.array(f[images])\n",
    "    outputs_data = np.array(f[category])\n"
   ]
  },
  {
   "cell_type": "code",
   "execution_count": 63,
   "metadata": {},
   "outputs": [
    {
     "data": {
      "text/plain": [
       "array([[1, 0, 0],\n",
       "       [0, 0, 1],\n",
       "       [0, 0, 1],\n",
       "       ...,\n",
       "       [0, 1, 0],\n",
       "       [0, 0, 1],\n",
       "       [0, 0, 1]])"
      ]
     },
     "execution_count": 63,
     "metadata": {},
     "output_type": "execute_result"
    }
   ],
   "source": [
    "def bool_to_int(classifiers):\n",
    "    n_examples, m_classes = classifiers.shape\n",
    "    classifier_int = []\n",
    "    for item in classifiers:\n",
    "        j_list = [int(a) for a in item]\n",
    "        classifier_int.append(j_list)\n",
    "    return np.array(classifier_int)\n",
    "\n",
    "def foods_to_vegan_classifier(classifiers):\n",
    "    vegans = list([5, 33, 36, 40, 51, 54, 57, 64, 88])\n",
    "    ovo_lacto = list([0, 2, 6, 8, 10, 11, 12, 13, 14, 16, 17, 21, 22, 23, 27, 29, 30, 31, 42, 46, 47, 48, 49, 56, 58,  62, 63, 67, 68,   72, 76, 82, 83, 84, 85, 94, 98, 100])\n",
    "    meat = list([1, 3, 4, 7, 9, 15, 18, 19, 20, 24, 25, 26, 28, 32, 34, 35, 37, 38, 39, 41, 44, 45, 50, 52, 54, 55, 59, 60, 61, 65, 66, 69, 70, 71,  73, 74, 75, 77, 78, 79, 80, 81,  86, 87, 89, 90, 91, 92, 93, 95, 96, 97, 99])\n",
    "    list_of_pos = []\n",
    "    n_examples, m_classes = classifiers.shape\n",
    "    for item in classifiers:\n",
    "        for i, a in enumerate(item):\n",
    "            if a == 1:\n",
    "                list_of_pos.append(i)\n",
    "    new_output = []\n",
    "    for item in list_of_pos:\n",
    "        if item in vegans:\n",
    "            new_output.append([1, 0, 0])\n",
    "        elif item in ovo_lacto:\n",
    "            new_output.append([0,1,0])\n",
    "        else:\n",
    "            new_output.append([0,0,1])\n",
    "    return np.array(new_output)\n",
    "\n",
    "outputs_data = bool_to_int(outputs_data)\n",
    "foods_to_vegan_classifier(outputs_data)"
   ]
  }
 ],
 "metadata": {
  "kernelspec": {
   "display_name": "Python 3",
   "language": "python",
   "name": "python3"
  },
  "language_info": {
   "codemirror_mode": {
    "name": "ipython",
    "version": 3
   },
   "file_extension": ".py",
   "mimetype": "text/x-python",
   "name": "python",
   "nbconvert_exporter": "python",
   "pygments_lexer": "ipython3",
   "version": "3.7.4"
  }
 },
 "nbformat": 4,
 "nbformat_minor": 2
}
