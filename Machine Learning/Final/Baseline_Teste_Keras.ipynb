{
 "cells": [
  {
   "cell_type": "markdown",
   "metadata": {},
   "source": [
    "#### Referência: https://medium.com/data-hackers/uma-introdu%C3%A7%C3%A3o-as-redes-neurais-convolucionais-utilizando-o-keras-41ee8dcc033e"
   ]
  },
  {
   "cell_type": "code",
   "execution_count": 96,
   "metadata": {},
   "outputs": [],
   "source": [
    "import h5py\n",
    "import numpy as np\n",
    "from tensorflow import keras\n",
    "from keras import optimizers\n",
    "from keras.optimizers import Adam\n",
    "from keras.preprocessing.image import ImageDataGenerator \n",
    "from keras.models import Sequential \n",
    "from keras.layers import Conv2D, MaxPooling2D \n",
    "from keras.layers import Activation, Dropout, Flatten, Dense \n",
    "from keras.callbacks import ReduceLROnPlateau\n",
    "import matplotlib.pyplot as plt"
   ]
  },
  {
   "cell_type": "code",
   "execution_count": 48,
   "metadata": {},
   "outputs": [
    {
     "name": "stdout",
     "output_type": "stream",
     "text": [
      "[(0, b'apple_pie'), (1, b'baby_back_ribs'), (2, b'baklava'), (3, b'beef_carpaccio'), (4, b'beef_tartare'), (5, b'beet_salad'), (6, b'beignets'), (7, b'bibimbap'), (8, b'bread_pudding'), (9, b'breakfast_burrito'), (10, b'bruschetta'), (11, b'caesar_salad'), (12, b'cannoli'), (13, b'caprese_salad'), (14, b'carrot_cake'), (15, b'ceviche'), (16, b'cheese_plate'), (17, b'cheesecake'), (18, b'chicken_curry'), (19, b'chicken_quesadilla'), (20, b'chicken_wings'), (21, b'chocolate_cake'), (22, b'chocolate_mousse'), (23, b'churros'), (24, b'clam_chowder'), (25, b'club_sandwich'), (26, b'crab_cakes'), (27, b'creme_brulee'), (28, b'croque_madame'), (29, b'cup_cakes'), (30, b'deviled_eggs'), (31, b'donuts'), (32, b'dumplings'), (33, b'edamame'), (34, b'eggs_benedict'), (35, b'escargots'), (36, b'falafel'), (37, b'filet_mignon'), (38, b'fish_and_chips'), (39, b'foie_gras'), (40, b'french_fries'), (41, b'french_onion_soup'), (42, b'french_toast'), (43, b'fried_calamari'), (44, b'fried_rice'), (45, b'frozen_yogurt'), (46, b'garlic_bread'), (47, b'gnocchi'), (48, b'greek_salad'), (49, b'grilled_cheese_sandwich'), (50, b'grilled_salmon'), (51, b'guacamole'), (52, b'gyoza'), (53, b'hamburger'), (54, b'hot_and_sour_soup'), (55, b'hot_dog'), (56, b'huevos_rancheros'), (57, b'hummus'), (58, b'ice_cream'), (59, b'lasagna'), (60, b'lobster_bisque'), (61, b'lobster_roll_sandwich'), (62, b'macaroni_and_cheese'), (63, b'macarons'), (64, b'miso_soup'), (65, b'mussels'), (66, b'nachos'), (67, b'omelette'), (68, b'onion_rings'), (69, b'oysters'), (70, b'pad_thai'), (71, b'paella'), (72, b'pancakes'), (73, b'panna_cotta'), (74, b'peking_duck'), (75, b'pho'), (76, b'pizza'), (77, b'pork_chop'), (78, b'poutine'), (79, b'prime_rib'), (80, b'pulled_pork_sandwich'), (81, b'ramen'), (82, b'ravioli'), (83, b'red_velvet_cake'), (84, b'risotto'), (85, b'samosa'), (86, b'sashimi'), (87, b'scallops'), (88, b'seaweed_salad'), (89, b'shrimp_and_grits'), (90, b'spaghetti_bolognese'), (91, b'spaghetti_carbonara'), (92, b'spring_rolls'), (93, b'steak'), (94, b'strawberry_shortcake'), (95, b'sushi'), (96, b'tacos'), (97, b'takoyaki'), (98, b'tiramisu'), (99, b'tuna_tartare'), (100, b'waffles')]\n"
     ]
    }
   ],
   "source": [
    "filename = 'food_c101_n10099_r32x32x3.h5'\n",
    "\n",
    "with h5py.File(filename, 'r') as f:\n",
    "    # List all groups\n",
    "    images = list(f.keys())[2]\n",
    "    names = list(f.keys())[1]\n",
    "    category = list(f.keys())[0]\n",
    "\n",
    "    # Get the data\n",
    "    #print(f[a_group_key][0])\n",
    "    print(list([(i, name) for i, name in enumerate(f[names])]))\n",
    "    data = np.array(f[images])\n",
    "    outputs_data = np.array(f[category])"
   ]
  },
  {
   "cell_type": "code",
   "execution_count": 49,
   "metadata": {},
   "outputs": [],
   "source": [
    "def bool_to_int(classifiers):\n",
    "    n_examples, m_classes = classifiers.shape\n",
    "    classifier_int = []\n",
    "    for item in classifiers:\n",
    "        j_list = [int(a) for a in item]\n",
    "        classifier_int.append(j_list)\n",
    "    return np.array(classifier_int)\n",
    "\n",
    "def foods_to_vegan_classifier(classifiers):\n",
    "    vegans = list([5, 33, 36, 40, 51, 54, 57, 64, 88])\n",
    "    ovo_lacto = list([0, 2, 6, 8, 10, 11, 12, 13, 14, 16, 17, 21, 22, 23, 27, 29, 30, 31, 42, 46, 47, 48, 49, 56, 58,  62, 63, 67, 68,   72, 76, 82, 83, 84, 85, 94, 98, 100])\n",
    "    meat = list([1, 3, 4, 7, 9, 15, 18, 19, 20, 24, 25, 26, 28, 32, 34, 35, 37, 38, 39, 41, 44, 45, 50, 52, 54, 55, 59, 60, 61, 65, 66, 69, 70, 71,  73, 74, 75, 77, 78, 79, 80, 81,  86, 87, 89, 90, 91, 92, 93, 95, 96, 97, 99])\n",
    "    list_of_pos = []\n",
    "    n_examples, m_classes = classifiers.shape\n",
    "    for item in classifiers:\n",
    "        for i, a in enumerate(item):\n",
    "            if a == 1:\n",
    "                list_of_pos.append(i)\n",
    "    new_output = []\n",
    "    for item in list_of_pos:\n",
    "        if item in vegans:\n",
    "            new_output.append([1, 0, 0])\n",
    "        elif item in ovo_lacto:\n",
    "            new_output.append([0,1,0])\n",
    "        else:\n",
    "            new_output.append([0,0,1])\n",
    "    return np.array(new_output)\n",
    "\n",
    "outputs_data = bool_to_int(outputs_data)\n",
    "classes = foods_to_vegan_classifier(outputs_data)"
   ]
  },
  {
   "cell_type": "code",
   "execution_count": 83,
   "metadata": {},
   "outputs": [
    {
     "data": {
      "text/plain": [
       "(10099, 32, 32, 3)"
      ]
     },
     "execution_count": 83,
     "metadata": {},
     "output_type": "execute_result"
    }
   ],
   "source": [
    "#Train Data\n",
    "train = data[:]\n",
    "train_labels = classes[:]\n",
    "train.shape"
   ]
  },
  {
   "cell_type": "code",
   "execution_count": 84,
   "metadata": {},
   "outputs": [],
   "source": [
    "#Image shape\n",
    "shape = train[0].shape"
   ]
  },
  {
   "cell_type": "code",
   "execution_count": 85,
   "metadata": {},
   "outputs": [],
   "source": [
    "#Normalize\n",
    "train = train/255\n",
    "valid = valid/255"
   ]
  },
  {
   "cell_type": "code",
   "execution_count": 86,
   "metadata": {},
   "outputs": [],
   "source": [
    "#Model\n",
    "model = Sequential()\n",
    "model.add(Conv2D(32, (5,5), activation='relu', padding='same', input_shape=shape))\n",
    "model.add(Conv2D(64, (5,5), activation='relu', padding='same'))\n",
    "model.add(MaxPooling2D(pool_size=(2,2)))\n",
    "model.add(Dropout(0.25))\n",
    "model.add(Flatten())\n",
    "model.add(Dense(128, activation='relu'))\n",
    "model.add(Dropout(0.5))\n",
    "model.add(Dense(3, activation='softmax'))"
   ]
  },
  {
   "cell_type": "code",
   "execution_count": 87,
   "metadata": {},
   "outputs": [
    {
     "name": "stdout",
     "output_type": "stream",
     "text": [
      "Model: \"sequential_4\"\n",
      "_________________________________________________________________\n",
      "Layer (type)                 Output Shape              Param #   \n",
      "=================================================================\n",
      "conv2d_7 (Conv2D)            (None, 32, 32, 32)        2432      \n",
      "_________________________________________________________________\n",
      "conv2d_8 (Conv2D)            (None, 32, 32, 64)        51264     \n",
      "_________________________________________________________________\n",
      "max_pooling2d_4 (MaxPooling2 (None, 16, 16, 64)        0         \n",
      "_________________________________________________________________\n",
      "dropout_7 (Dropout)          (None, 16, 16, 64)        0         \n",
      "_________________________________________________________________\n",
      "flatten_4 (Flatten)          (None, 16384)             0         \n",
      "_________________________________________________________________\n",
      "dense_7 (Dense)              (None, 128)               2097280   \n",
      "_________________________________________________________________\n",
      "dropout_8 (Dropout)          (None, 128)               0         \n",
      "_________________________________________________________________\n",
      "dense_8 (Dense)              (None, 3)                 387       \n",
      "=================================================================\n",
      "Total params: 2,151,363\n",
      "Trainable params: 2,151,363\n",
      "Non-trainable params: 0\n",
      "_________________________________________________________________\n",
      "None\n"
     ]
    }
   ],
   "source": [
    "optimizer = Adam()\n",
    "model.compile(loss='categorical_crossentropy', optimizer=optimizer, metrics=['accuracy'])\n",
    "print(model.summary())"
   ]
  },
  {
   "cell_type": "code",
   "execution_count": 88,
   "metadata": {},
   "outputs": [],
   "source": [
    "# reduz o parâmetro de learning rate se não houver \n",
    "# melhoras em determinado número de epocas\n",
    "# útil para encontrar o mínimo global.\n",
    "learning_rate_reduction = ReduceLROnPlateau(monitor='val_acc', \n",
    "                                            patience=3, \n",
    "                                            verbose=1, \n",
    "                                            factor=0.5, \n",
    "                                            min_lr=0.00001)\n",
    "\n",
    "batch_size = 32\n",
    "epochs = 10"
   ]
  },
  {
   "cell_type": "code",
   "execution_count": 89,
   "metadata": {},
   "outputs": [
    {
     "name": "stdout",
     "output_type": "stream",
     "text": [
      "Train on 8079 samples, validate on 2020 samples\n",
      "Epoch 1/10\n",
      "8079/8079 [==============================] - 79s 10ms/step - loss: 0.9491 - accuracy: 0.5114 - val_loss: 0.8968 - val_accuracy: 0.5446\n",
      "Epoch 2/10\n"
     ]
    },
    {
     "name": "stderr",
     "output_type": "stream",
     "text": [
      "C:\\Users\\marinhog\\AppData\\Local\\Continuum\\anaconda3\\lib\\site-packages\\keras\\callbacks\\callbacks.py:1042: RuntimeWarning: Reduce LR on plateau conditioned on metric `val_acc` which is not available. Available metrics are: val_loss,val_accuracy,loss,accuracy,lr\n",
      "  (self.monitor, ','.join(list(logs.keys()))), RuntimeWarning\n"
     ]
    },
    {
     "name": "stdout",
     "output_type": "stream",
     "text": [
      "8079/8079 [==============================] - 82s 10ms/step - loss: 0.9262 - accuracy: 0.5236 - val_loss: 0.8941 - val_accuracy: 0.5450\n",
      "Epoch 3/10\n",
      "8079/8079 [==============================] - 80s 10ms/step - loss: 0.9219 - accuracy: 0.5236 - val_loss: 0.8887 - val_accuracy: 0.5450\n",
      "Epoch 4/10\n",
      "8079/8079 [==============================] - 79s 10ms/step - loss: 0.9122 - accuracy: 0.5268 - val_loss: 0.8708 - val_accuracy: 0.5564\n",
      "Epoch 5/10\n",
      "8079/8079 [==============================] - 79s 10ms/step - loss: 0.9061 - accuracy: 0.5291 - val_loss: 0.8882 - val_accuracy: 0.5530\n",
      "Epoch 6/10\n",
      "8079/8079 [==============================] - 77s 10ms/step - loss: 0.9022 - accuracy: 0.5305 - val_loss: 0.8694 - val_accuracy: 0.5535\n",
      "Epoch 7/10\n",
      "8079/8079 [==============================] - 76s 9ms/step - loss: 0.8954 - accuracy: 0.5343 - val_loss: 0.8809 - val_accuracy: 0.5550\n",
      "Epoch 8/10\n",
      "8079/8079 [==============================] - 78s 10ms/step - loss: 0.8811 - accuracy: 0.5410 - val_loss: 0.8846 - val_accuracy: 0.5450\n",
      "Epoch 9/10\n",
      "8079/8079 [==============================] - 77s 9ms/step - loss: 0.8737 - accuracy: 0.5486 - val_loss: 0.8762 - val_accuracy: 0.5515\n",
      "Epoch 10/10\n",
      "8079/8079 [==============================] - 76s 9ms/step - loss: 0.8564 - accuracy: 0.5668 - val_loss: 0.8928 - val_accuracy: 0.5441\n"
     ]
    },
    {
     "ename": "KeyError",
     "evalue": "'acc'",
     "output_type": "error",
     "traceback": [
      "\u001b[1;31m---------------------------------------------------------------------------\u001b[0m",
      "\u001b[1;31mKeyError\u001b[0m                                  Traceback (most recent call last)",
      "\u001b[1;32m<ipython-input-89-1ee510266d17>\u001b[0m in \u001b[0;36m<module>\u001b[1;34m\u001b[0m\n\u001b[0;32m      8\u001b[0m \u001b[1;33m\u001b[0m\u001b[0m\n\u001b[0;32m      9\u001b[0m \u001b[0mhistory_dict\u001b[0m \u001b[1;33m=\u001b[0m \u001b[0mhistory\u001b[0m\u001b[1;33m.\u001b[0m\u001b[0mhistory\u001b[0m\u001b[1;33m\u001b[0m\u001b[1;33m\u001b[0m\u001b[0m\n\u001b[1;32m---> 10\u001b[1;33m \u001b[0macc\u001b[0m \u001b[1;33m=\u001b[0m \u001b[0mhistory_dict\u001b[0m\u001b[1;33m[\u001b[0m\u001b[1;34m'acc'\u001b[0m\u001b[1;33m]\u001b[0m\u001b[1;33m\u001b[0m\u001b[1;33m\u001b[0m\u001b[0m\n\u001b[0m\u001b[0;32m     11\u001b[0m \u001b[0mval_acc\u001b[0m \u001b[1;33m=\u001b[0m \u001b[0mhistory_dict\u001b[0m\u001b[1;33m[\u001b[0m\u001b[1;34m'val_acc'\u001b[0m\u001b[1;33m]\u001b[0m\u001b[1;33m\u001b[0m\u001b[1;33m\u001b[0m\u001b[0m\n\u001b[0;32m     12\u001b[0m \u001b[0mrange_epochs\u001b[0m \u001b[1;33m=\u001b[0m \u001b[0mrange\u001b[0m\u001b[1;33m(\u001b[0m\u001b[1;36m1\u001b[0m\u001b[1;33m,\u001b[0m \u001b[0mlen\u001b[0m\u001b[1;33m(\u001b[0m\u001b[0macc\u001b[0m\u001b[1;33m)\u001b[0m \u001b[1;33m+\u001b[0m \u001b[1;36m1\u001b[0m\u001b[1;33m)\u001b[0m\u001b[1;33m\u001b[0m\u001b[1;33m\u001b[0m\u001b[0m\n",
      "\u001b[1;31mKeyError\u001b[0m: 'acc'"
     ]
    }
   ],
   "source": [
    "history = model.fit(train,\n",
    "                        train_labels,\n",
    "                        batch_size = batch_size,\n",
    "                        epochs = epochs,\n",
    "                        validation_split=0.2,\n",
    "                        verbose = 1,\n",
    "                        callbacks=[learning_rate_reduction])\n",
    "\n",
    "history_dict = history.history"
   ]
  },
  {
   "cell_type": "code",
   "execution_count": 94,
   "metadata": {},
   "outputs": [],
   "source": [
    "acc = history_dict['accuracy']\n",
    "val_acc = history_dict['val_accuracy']\n",
    "range_epochs = range(1, len(acc) + 1)"
   ]
  },
  {
   "cell_type": "code",
   "execution_count": 97,
   "metadata": {},
   "outputs": [
    {
     "data": {
      "image/png": "[encoded data removed]",
      "text/plain": [
       "<Figure size 640x480 with 1 Axes>"
      ]
     },
     "metadata": {},
     "output_type": "display_data"
    }
   ],
   "source": [
    "plt.style.use('default')\n",
    "accuracy_val = plt.plot(range_epochs, val_acc, label='Acurácia no conjunto de validação')\n",
    "accuracy_train = plt.plot(range_epochs, acc, label='Acurácia no conjunto de treino', color=\"r\")\n",
    "plt.setp(accuracy_val, linewidth=2.0)\n",
    "plt.setp(accuracy_train, linewidth=2.0)\n",
    "plt.xlabel('Épocas') \n",
    "plt.ylabel('Acurácia')\n",
    "plt.legend(loc=\"lower right\")\n",
    "plt.show()"
   ]
  },
  {
   "cell_type": "code",
   "execution_count": null,
   "metadata": {},
   "outputs": [],
   "source": []
  }
 ],
 "metadata": {
  "kernelspec": {
   "display_name": "Python 3",
   "language": "python",
   "name": "python3"
  },
  "language_info": {
   "codemirror_mode": {
    "name": "ipython",
    "version": 3
   },
   "file_extension": ".py",
   "mimetype": "text/x-python",
   "name": "python",
   "nbconvert_exporter": "python",
   "pygments_lexer": "ipython3",
   "version": "3.7.3"
  }
 },
 "nbformat": 4,
 "nbformat_minor": 2
}
