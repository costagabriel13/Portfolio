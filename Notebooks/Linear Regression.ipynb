{
 "cells": [
  {
   "cell_type": "markdown",
   "metadata": {},
   "source": [
    "# Trabalho 1 de MC886 --- UNICAMP 2019\n",
    "Gabriel Costa ra172269\n",
    "\n",
    "Giovanni Bertão ra173325"
   ]
  },
  {
   "cell_type": "code",
   "execution_count": 1,
   "metadata": {},
   "outputs": [],
   "source": [
    "import numpy as np\n",
    "import pandas as pd\n",
    "import matplotlib.pyplot as plt\n",
    "import sklearn\n",
    "import datetime\n",
    "import time\n",
    "from sklearn.preprocessing import LabelEncoder\n",
    "from sklearn.preprocessing import OneHotEncoder\n",
    "from sklearn import preprocessing\n",
    "import sklearn.linear_model\n",
    "from sklearn.preprocessing import PolynomialFeatures\n",
    "from sklearn.pipeline import make_pipeline\n",
    "from sklearn.linear_model import LinearRegression"
   ]
  },
  {
   "cell_type": "markdown",
   "metadata": {},
   "source": [
    "## Transforming the data"
   ]
  },
  {
   "cell_type": "code",
   "execution_count": 2,
   "metadata": {},
   "outputs": [],
   "source": [
    "def transform(data):\n",
    "    #Creating 2 features with date_time\n",
    "    weekday = data['date_time'].values\n",
    "    hour = weekday.copy()\n",
    "    \n",
    "    for i in range(len(weekday)):\n",
    "        #Data time to day of the week\n",
    "        weekday[i] = datetime.datetime.strptime(weekday[i], '%Y-%m-%d %H:%M:%S').weekday()\n",
    "        #Date time to hour\n",
    "        hour[i] = datetime.datetime.strptime(hour[i], '%Y-%m-%d %H:%M:%S').time().hour\n",
    "    \n",
    "    #Adding to the data frame\n",
    "    data['weekday'] = weekday\n",
    "    data['hour'] = hour\n",
    "    data = data.drop(columns = 'date_time')\n",
    "    data.head()\n",
    "    \n",
    "    #One hot encoding holiday and weather_description\n",
    "    le_holiday = LabelEncoder()\n",
    "    le_wd = LabelEncoder()\n",
    "    data['holiday_encoded'] = le_holiday.fit_transform(data.holiday)\n",
    "    data['weather_desc_encoded'] = le_wd.fit_transform(data.weather_description)\n",
    "    holiday_ohe = OneHotEncoder()\n",
    "    weather_desc_ohe = OneHotEncoder()\n",
    "    X = holiday_ohe.fit_transform(data.holiday_encoded.values.reshape(-1,1)).toarray()\n",
    "    dfOneHot = pd.DataFrame(X, columns = [\"holiday_\"+str(int(i)) for i in range(X.shape[1])])\n",
    "    data = pd.concat([data, dfOneHot], axis=1)\n",
    "    X = weather_desc_ohe.fit_transform(data.weather_desc_encoded.values.reshape(-1,1)).toarray()\n",
    "    dfOneHot = pd.DataFrame(X, columns = [\"weather_desc_\"+str(int(i)) for i in range(X.shape[1])])\n",
    "    data = pd.concat([data, dfOneHot], axis=1)\n",
    "    \n",
    "    #Removing string columns and label encoded columns\n",
    "    data = data.drop(columns = ['holiday', 'weather_main', 'weather_description', 'holiday_encoded', 'weather_desc_encoded'])\n",
    "    \n",
    "    return data"
   ]
  },
  {
   "cell_type": "markdown",
   "metadata": {},
   "source": [
    "## Spliting the Data"
   ]
  },
  {
   "cell_type": "markdown",
   "metadata": {},
   "source": [
    "#### We shuffled the original data and splitted into new CSV files: 80% training, 10% validation and 10% test\n",
    "#### The code below was executed only once"
   ]
  },
  {
   "cell_type": "markdown",
   "metadata": {},
   "source": [
    "    data = pd.read_csv(\"./dataset/Metro_Interstate_Traffic_Volume.csv\")\n",
    "\n",
    "    data = transform(data)\n",
    "\n",
    "    data = data.sample(frac=1)\n",
    "\n",
    "    train_ratio = .80\n",
    "    validation_ratio = .1\n",
    "    test_ratio = 1 - (train_ratio + validation_ratio)\n",
    "\n",
    "    train_total = int(len(data)*train_ratio)\n",
    "    validation_total = int((len(data)*validation_ratio))\n",
    "\n",
    "    data_train = data[:train_total]\n",
    "    data_validation = data[train_total:train_total + validation_total]\n",
    "    data_test = data[train_total + validation_total:]\n",
    "\n",
    "    data_train.to_csv(\"./dataset/Train_Data.csv\")\n",
    "    data_validation.to_csv(\"./dataset/Validation_Data.csv\")\n",
    "    data_test.to_csv(\"./dataset/Test_Data.csv\")"
   ]
  },
  {
   "cell_type": "code",
   "execution_count": 3,
   "metadata": {},
   "outputs": [],
   "source": [
    "data = pd.read_csv(\"./dataset/Metro_Interstate_Traffic_Volume.csv\")"
   ]
  },
  {
   "cell_type": "markdown",
   "metadata": {},
   "source": [
    "## Importing Data"
   ]
  },
  {
   "cell_type": "code",
   "execution_count": 4,
   "metadata": {},
   "outputs": [],
   "source": [
    "data_train = pd.read_csv(\"./dataset/Train_Data.csv\")\n",
    "data_validation = pd.read_csv(\"./dataset/Validation_Data.csv\")"
   ]
  },
  {
   "cell_type": "markdown",
   "metadata": {},
   "source": [
    "## Normalizing data"
   ]
  },
  {
   "cell_type": "markdown",
   "metadata": {},
   "source": [
    "### Mean Normalization"
   ]
  },
  {
   "cell_type": "code",
   "execution_count": 5,
   "metadata": {},
   "outputs": [],
   "source": [
    "def mean_normalize(data, validation =False, mean=None, maximum=None, minimum=None):\n",
    "    if not validation:\n",
    "        mean = data.mean()\n",
    "        maximum = data.max()\n",
    "        minimum = data.min()\n",
    "        \n",
    "    d_normalized = (data - mean)/(maximum - minimum)\n",
    "    \n",
    "    return (d_normalized, mean, maximum, minimum)"
   ]
  },
  {
   "cell_type": "code",
   "execution_count": 6,
   "metadata": {},
   "outputs": [],
   "source": [
    "def undo_normalize(data, mean=None, maximum=None, minimum=None):\n",
    "        \n",
    "    d_normalized = (data*(maximum[0] - minimum[0])) + mean[0]\n",
    "    \n",
    "    return d_normalized"
   ]
  },
  {
   "cell_type": "markdown",
   "metadata": {},
   "source": [
    "## Performing the Linear Regression"
   ]
  },
  {
   "cell_type": "markdown",
   "metadata": {},
   "source": [
    "### Our Implementation"
   ]
  },
  {
   "cell_type": "markdown",
   "metadata": {},
   "source": [
    "#### Hypothesis"
   ]
  },
  {
   "cell_type": "code",
   "execution_count": 7,
   "metadata": {},
   "outputs": [],
   "source": [
    "def hypothesis_func(x, theta):\n",
    "    return x.dot(theta)"
   ]
  },
  {
   "cell_type": "markdown",
   "metadata": {},
   "source": [
    "#### Cost Function"
   ]
  },
  {
   "cell_type": "code",
   "execution_count": 8,
   "metadata": {},
   "outputs": [],
   "source": [
    "def cost_func(x, theta, y):\n",
    "    m = len(x)\n",
    "    result = hypothesis_func(x, theta) - y\n",
    "    result = result ** 2\n",
    "    result = sum(result)/(2*m)\n",
    "    \n",
    "    return result"
   ]
  },
  {
   "cell_type": "markdown",
   "metadata": {},
   "source": [
    "#### Gradient Function"
   ]
  },
  {
   "cell_type": "code",
   "execution_count": 9,
   "metadata": {},
   "outputs": [],
   "source": [
    "def gradient_func(x, theta, y):\n",
    "    m = len(x)\n",
    "    result = hypothesis_func(x, theta) - y\n",
    "    result = result * x\n",
    "    result = sum(result)/m\n",
    "    \n",
    "    return result.reshape(theta.shape)"
   ]
  },
  {
   "cell_type": "markdown",
   "metadata": {},
   "source": [
    "#### Error Function"
   ]
  },
  {
   "cell_type": "code",
   "execution_count": 10,
   "metadata": {},
   "outputs": [],
   "source": [
    "def absolute_error(x, y):\n",
    "    return np.median(abs((undo_normalize(y, Y_avg, Y_max, Y_min) - undo_normalize(x, Y_avg, Y_max, Y_min))))"
   ]
  },
  {
   "cell_type": "markdown",
   "metadata": {},
   "source": [
    "#### Training Data"
   ]
  },
  {
   "cell_type": "code",
   "execution_count": 172,
   "metadata": {},
   "outputs": [],
   "source": [
    "X_train = data_train.loc[:, data_train.columns != ('traffic_volume', 'temp', 'weekday', 'hour')]\n",
    "X_train_norm, X_avg, X_max, X_min = mean_normalize(X_train)"
   ]
  },
  {
   "cell_type": "code",
   "execution_count": 173,
   "metadata": {},
   "outputs": [],
   "source": [
    "Y_train = data_train.loc[:, data_train.columns == 'traffic_volume']\n",
    "Y_train_norm, Y_avg, Y_max, Y_min = mean_normalize(Y_train)"
   ]
  },
  {
   "cell_type": "markdown",
   "metadata": {},
   "source": [
    "#### Validation Data"
   ]
  },
  {
   "cell_type": "code",
   "execution_count": 174,
   "metadata": {},
   "outputs": [],
   "source": [
    "X_val = data_validation.loc[:, data_validation.columns != ('traffic_volume', 'temp', 'weekday', 'hour')]\n",
    "X_val_norm = mean_normalize(X_val, True, X_avg, X_max, X_min)[0]"
   ]
  },
  {
   "cell_type": "code",
   "execution_count": 175,
   "metadata": {},
   "outputs": [],
   "source": [
    "Y_val = data_validation.loc[:, data_validation.columns == 'traffic_volume']\n",
    "Y_val_norm = mean_normalize(Y_val, True, Y_avg, Y_max, Y_min)[0]"
   ]
  },
  {
   "cell_type": "markdown",
   "metadata": {},
   "source": [
    "#### Gradient Descent Process --- Vanilla"
   ]
  },
  {
   "cell_type": "code",
   "execution_count": 112,
   "metadata": {},
   "outputs": [
    {
     "name": "stdout",
     "output_type": "stream",
     "text": [
      "0.0%\n",
      "10.0%\n",
      "20.0%\n",
      "30.0%\n",
      "40.0%\n",
      "50.0%\n",
      "60.0%\n",
      "70.0%\n",
      "80.0%\n",
      "90.0%\n",
      "Trainned in 105.09626960754395 seconds\n"
     ]
    }
   ],
   "source": [
    "# Preparing the X, Y and Theta vectors\n",
    "# Train\n",
    "num_rows, num_cols = X_train_norm.shape\n",
    "x_train = np.ones((num_rows, num_cols + 1))\n",
    "x_train[:,1:] = X_train_norm\n",
    "\n",
    "y_train = Y_train_norm.values\n",
    "\n",
    "# Validation\n",
    "num_rows, num_cols = X_val_norm.shape\n",
    "x_val = np.ones((num_rows, num_cols + 1))\n",
    "x_val[:,1:] = X_val_norm\n",
    "\n",
    "y_val = Y_val_norm.values\n",
    "\n",
    "# Generating a initial theta\n",
    "np.random.seed(42)\n",
    "theta = np.random.randint(1000, size=((num_cols + 1, 1)))\n",
    "\n",
    "# Executing the algorithm\n",
    "num_itera = 1000\n",
    "learning_rate = 0.1\n",
    "train_error = [cost_func(x_train, theta, y_train)]\n",
    "valid_error = [cost_func(x_val, theta, y_val)]\n",
    "start_time = time.time()\n",
    "for itr in range(num_itera):\n",
    "    if (itr % (num_itera/10) == 0):\n",
    "        print(\"{}%\".format(itr*100/num_itera))\n",
    "    theta = theta - learning_rate * gradient_func(x_train, theta, y_train)\n",
    "    train_error.append(cost_func(x_train, theta, y_train))\n",
    "    valid_error.append(cost_func(x_val, theta, y_val))\n",
    "total_time = time.time() - start_time\n",
    "theta_vanilla = theta\n",
    "print(\"Trainned in {} seconds\".format(total_time))"
   ]
  },
  {
   "cell_type": "markdown",
   "metadata": {},
   "source": [
    "##### Cost Function vs iterations plot"
   ]
  },
  {
   "cell_type": "code",
   "execution_count": 113,
   "metadata": {},
   "outputs": [
    {
     "data": {
      "image/png": "[encoded data removed]",
      "text/plain": [
       "<Figure size 432x288 with 1 Axes>"
      ]
     },
     "metadata": {
      "needs_background": "light"
     },
     "output_type": "display_data"
    }
   ],
   "source": [
    "plt.plot(train_error, label = \"Train\")\n",
    "plt.plot(valid_error, label = \"Validation\")\n",
    "plt.ylabel(\"Loss\")\n",
    "plt.xlabel(\"Epoch\")\n",
    "plt.grid()\n",
    "plt.title(\"Variação da Loss através de cada Epoch\")\n",
    "plt.legend()\n",
    "plt.savefig(\"ex2.eps\")"
   ]
  },
  {
   "cell_type": "markdown",
   "metadata": {},
   "source": [
    "##### Absolute Error"
   ]
  },
  {
   "cell_type": "code",
   "execution_count": 114,
   "metadata": {},
   "outputs": [
    {
     "name": "stdout",
     "output_type": "stream",
     "text": [
      "MIN:0.00 MAX:441.27\n"
     ]
    }
   ],
   "source": [
    "error1 = np.abs(x_val.dot(theta) - y_val)\n",
    "print(\"MIN:{:.2f} MAX:{:.2f}\".format(min(error1)[0],max(error1)[0]))"
   ]
  },
  {
   "cell_type": "code",
   "execution_count": 115,
   "metadata": {},
   "outputs": [
    {
     "name": "stdout",
     "output_type": "stream",
     "text": [
      "MIN:0.00 MAX:441.27\n"
     ]
    }
   ],
   "source": [
    "error2 = np.abs(x_val.dot(theta) - y_val)\n",
    "print(\"MIN:{:.2f} MAX:{:.2f}\".format(min(error2)[0],max(error2)[0]))"
   ]
  },
  {
   "cell_type": "code",
   "execution_count": 116,
   "metadata": {},
   "outputs": [
    {
     "name": "stdout",
     "output_type": "stream",
     "text": [
      "MIN:0.00 MAX:441.27\n"
     ]
    }
   ],
   "source": [
    "error3 = np.abs(x_val.dot(theta) - y_val)\n",
    "print(\"MIN:{:.2f} MAX:{:.2f}\".format(min(error3)[0],max(error3)[0]))"
   ]
  },
  {
   "cell_type": "markdown",
   "metadata": {},
   "source": [
    "#### Gradient Descent Process --- Mini Batch"
   ]
  },
  {
   "cell_type": "code",
   "execution_count": 132,
   "metadata": {},
   "outputs": [
    {
     "name": "stdout",
     "output_type": "stream",
     "text": [
      "0.0%\n",
      "10.0%\n",
      "20.0%\n",
      "30.0%\n",
      "40.0%\n",
      "50.0%\n",
      "60.0%\n",
      "70.0%\n",
      "80.0%\n",
      "90.0%\n",
      "Trained in 29.457943439483643 seconds\n"
     ]
    }
   ],
   "source": [
    "# Fixing the X and Y vectors for Mini Batch\n",
    "#Train\n",
    "num_rows, num_cols = X_train_norm.shape\n",
    "X_train = np.ones((num_rows, num_cols + 1))\n",
    "X_train[:,1:] = X_train_norm\n",
    "\n",
    "y_train = Y_train_norm['traffic_volume'].values\n",
    "\n",
    "# Validation\n",
    "num_rows, num_cols = X_val_norm.shape\n",
    "X_valid = np.ones((num_rows, num_cols + 1))\n",
    "X_valid[:,1:] = X_val_norm\n",
    "\n",
    "y_valid = Y_val_norm['traffic_volume'].values\n",
    "\n",
    "#Initial theta\n",
    "theta = np.random.randint(1000, size=(1, len(X_train[0])))\n",
    "theta = theta[0]\n",
    "\n",
    "#Epoch = run through all training data\n",
    "#Batch size = number of training examples in one batch\n",
    "#Iteration = Number of batches needed to complete one Epoch\n",
    "m = len(y_train)\n",
    "epochs = 1000\n",
    "batch_size = 50\n",
    "iterations = m//batch_size\n",
    "learning_rate = 0.1\n",
    "\n",
    "train_error = []\n",
    "valid_error = []\n",
    "\n",
    "train_result_error = []\n",
    "valid_result_error = []\n",
    "\n",
    "#Mini-batch GD\n",
    "start_time = time.time()\n",
    "for i in range(epochs):\n",
    "    if (i % (epochs/10) == 0):\n",
    "        print(\"{}%\".format(i*100/epochs))\n",
    "    for j in range(iterations-1):\n",
    "        #Updating theta\n",
    "        x_train_batch = X_train[j*batch_size:(j+1)*batch_size]\n",
    "        y_train_batch = y_train[j*batch_size:(j+1)*batch_size]\n",
    "        theta = theta - (learning_rate/batch_size) * x_train_batch.T.dot(x_train_batch.dot(theta) - y_train_batch)\n",
    "    #Undoing normalization\n",
    "    y = undo_normalize(y_train, Y_avg, Y_max, Y_min)\n",
    "    x = undo_normalize(X_train.dot(theta), Y_avg, Y_max, Y_min)\n",
    "    #Getting result mean error for each epoch\n",
    "    train_result_error.append(abs(np.mean(x - y)))\n",
    "    #Getting train cost function error for each epoch\n",
    "    train_error.append(cost_func(X_train, theta, y_train))\n",
    "    #Undoing normalization\n",
    "    y = undo_normalize(y_valid, Y_avg, Y_max, Y_min)\n",
    "    x = undo_normalize(X_valid.dot(theta), Y_avg, Y_max, Y_min)\n",
    "    #Getting result mean error for each epoch\n",
    "    valid_result_error.append(abs(np.mean(x - y)))\n",
    "    #Getting validation cost function error for each epoch\n",
    "    valid_error.append(cost_func(X_valid, theta, y_valid))\n",
    "print(\"Trained in {} seconds\".format(time.time() - start_time))\n",
    "theta_mb = theta.reshape((theta.shape[0],1))"
   ]
  },
  {
   "cell_type": "markdown",
   "metadata": {},
   "source": [
    "##### Cost Function vs iterations plot"
   ]
  },
  {
   "cell_type": "code",
   "execution_count": 133,
   "metadata": {},
   "outputs": [
    {
     "data": {
      "image/png": "[encoded data removed]",
      "text/plain": [
       "<Figure size 432x288 with 1 Axes>"
      ]
     },
     "metadata": {
      "needs_background": "light"
     },
     "output_type": "display_data"
    }
   ],
   "source": [
    "plt.plot(train_error, label = \"Train\")\n",
    "plt.plot(valid_error, label = \"Validation\")\n",
    "plt.ylabel(\"Loss\")\n",
    "plt.grid()\n",
    "plt.xlabel(\"Epochs\")\n",
    "plt.legend()\n",
    "plt.savefig(\"mb.eps\")"
   ]
  },
  {
   "cell_type": "markdown",
   "metadata": {},
   "source": [
    "##### Absolute Error"
   ]
  },
  {
   "cell_type": "code",
   "execution_count": 134,
   "metadata": {},
   "outputs": [
    {
     "name": "stdout",
     "output_type": "stream",
     "text": [
      "MIN:0.00 MAX:4.01\n"
     ]
    }
   ],
   "source": [
    "error = np.abs(X_valid.dot(theta) - y_valid)\n",
    "print(\"MIN:{:.2f} MAX:{:.2f}\".format(min(error),max(error)))"
   ]
  },
  {
   "cell_type": "markdown",
   "metadata": {},
   "source": [
    "#### Predicted vs Actual Error (Starting on Epoch 10)"
   ]
  },
  {
   "cell_type": "code",
   "execution_count": 135,
   "metadata": {},
   "outputs": [
    {
     "data": {
      "image/png": "[encoded data removed]",
      "text/plain": [
       "<Figure size 432x288 with 1 Axes>"
      ]
     },
     "metadata": {
      "needs_background": "light"
     },
     "output_type": "display_data"
    }
   ],
   "source": [
    "plt.plot(train_result_error[10:], label = \"Train\")\n",
    "plt.plot(valid_result_error[10:], label = \"Validation\")\n",
    "plt.ylabel(\"Loss\")\n",
    "plt.grid()\n",
    "plt.xlabel(\"Epochs\")\n",
    "plt.legend()\n",
    "plt.savefig(\"result1.eps\")"
   ]
  },
  {
   "cell_type": "markdown",
   "metadata": {},
   "source": [
    "#### Predicted vs Actual Error (Last 10 Epochs)"
   ]
  },
  {
   "cell_type": "code",
   "execution_count": 136,
   "metadata": {},
   "outputs": [
    {
     "data": {
      "image/png": "[encoded data removed]",
      "text/plain": [
       "<Figure size 432x288 with 1 Axes>"
      ]
     },
     "metadata": {
      "needs_background": "light"
     },
     "output_type": "display_data"
    }
   ],
   "source": [
    "plt.plot(train_result_error[990:], label = \"Train\")\n",
    "plt.plot(valid_result_error[990:], label = \"Validation\")\n",
    "plt.ylabel(\"Loss\")\n",
    "plt.grid()\n",
    "plt.xlabel(\"Epochs\")\n",
    "plt.legend()\n",
    "plt.savefig(\"result2.eps\")"
   ]
  },
  {
   "cell_type": "markdown",
   "metadata": {},
   "source": [
    "### Using Sklearn"
   ]
  },
  {
   "cell_type": "code",
   "execution_count": 141,
   "metadata": {},
   "outputs": [],
   "source": [
    "# Preparing the X, Y and Theta vectors\n",
    "# Train\n",
    "num_rows, num_cols = X_train_norm.shape\n",
    "x_train = np.ones((num_rows, num_cols + 1))\n",
    "x_train[:,1:] = X_train_norm\n",
    "\n",
    "y_train = Y_train_norm.values\n",
    "\n",
    "# Validation\n",
    "num_rows, num_cols = X_val_norm.shape\n",
    "x_val = np.ones((num_rows, num_cols + 1))\n",
    "x_val[:,1:] = X_val_norm\n",
    "\n",
    "y_val = Y_val_norm.values\n",
    "\n",
    "clf = sklearn.linear_model.SGDRegressor(learning_rate=\"constant\", eta0=0.1, max_iter=1000, tol=1e-3)\n",
    "clf.fit(x_train, y_train.reshape(y_train.shape[0]))\n",
    "y_pred = clf.predict(x_val)"
   ]
  },
  {
   "cell_type": "code",
   "execution_count": 142,
   "metadata": {},
   "outputs": [
    {
     "data": {
      "image/png": "[encoded data removed]",
      "text/plain": [
       "<Figure size 432x288 with 1 Axes>"
      ]
     },
     "metadata": {
      "needs_background": "light"
     },
     "output_type": "display_data"
    }
   ],
   "source": [
    "plt.plot(np.abs(y_pred.reshape(y_pred.shape[0],1) - y_val))\n",
    "plt.savefig(\"sgd.eps\")"
   ]
  },
  {
   "cell_type": "code",
   "execution_count": 143,
   "metadata": {},
   "outputs": [
    {
     "name": "stdout",
     "output_type": "stream",
     "text": [
      "MIN:0.0000 MAX:0.0011\n"
     ]
    }
   ],
   "source": [
    "error = np.abs(y_pred.reshape(y_pred.shape[0],1) - y_val)\n",
    "print(\"MIN:{:.4f} MAX:{:.4f}\".format(min(error)[0],max(error)[0]))"
   ]
  },
  {
   "cell_type": "markdown",
   "metadata": {},
   "source": [
    "### Using Normal Equation"
   ]
  },
  {
   "cell_type": "code",
   "execution_count": 176,
   "metadata": {},
   "outputs": [],
   "source": [
    "def normal_equation(x,y):\n",
    "    return np.linalg.inv(x.T.dot(x)).dot(x.T.dot(y))"
   ]
  },
  {
   "cell_type": "code",
   "execution_count": 177,
   "metadata": {},
   "outputs": [],
   "source": [
    "# Preparing the X, Y and Theta vectors\n",
    "# Train\n",
    "num_rows, num_cols = X_train_norm.shape\n",
    "x_train = np.ones((num_rows, num_cols + 1))\n",
    "x_train[:,1:] = X_train_norm\n",
    "\n",
    "y_train = Y_train_norm.values\n",
    "\n",
    "# Validation\n",
    "num_rows, num_cols = X_val_norm.shape\n",
    "x_val = np.ones((num_rows, num_cols + 1))\n",
    "x_val[:,1:] = X_val_norm\n",
    "\n",
    "y_val = Y_val_norm.values\n",
    "\n",
    "theta = normal_equation(x_train, y_train)\n",
    "theta_normal = theta"
   ]
  },
  {
   "cell_type": "markdown",
   "metadata": {},
   "source": [
    "#### Absolute Error"
   ]
  },
  {
   "cell_type": "code",
   "execution_count": 178,
   "metadata": {},
   "outputs": [
    {
     "name": "stdout",
     "output_type": "stream",
     "text": [
      "MIN:0.0000 MAX:0.0229\n"
     ]
    }
   ],
   "source": [
    "error = np.abs(x_val.dot(theta) - y_val)\n",
    "print(\"MIN:{:.4f} MAX:{:.4f}\".format(min(error)[0],max(error)[0]))"
   ]
  },
  {
   "cell_type": "markdown",
   "metadata": {},
   "source": [
    "## Using on Test"
   ]
  },
  {
   "cell_type": "code",
   "execution_count": 151,
   "metadata": {},
   "outputs": [],
   "source": [
    "data_test = pd.read_csv(\"./dataset/Test_Data.csv\")"
   ]
  },
  {
   "cell_type": "code",
   "execution_count": 152,
   "metadata": {},
   "outputs": [],
   "source": [
    "X_test = data_test.loc[:, data_validation.columns != ('traffic_volume', 'temp', 'weekday', 'hour')]\n",
    "X_test_norm = mean_normalize(X_test, True, X_avg, X_max, X_min)[0]"
   ]
  },
  {
   "cell_type": "code",
   "execution_count": 153,
   "metadata": {},
   "outputs": [],
   "source": [
    "Y_test = data_test.loc[:, data_validation.columns == 'traffic_volume']\n",
    "Y_test_norm = mean_normalize(Y_test, True, Y_avg, Y_max, Y_min)[0]"
   ]
  },
  {
   "cell_type": "code",
   "execution_count": 154,
   "metadata": {},
   "outputs": [],
   "source": [
    "num_rows, num_cols = X_test_norm.shape\n",
    "x_test = np.ones((num_rows, num_cols + 1))\n",
    "x_test[:,1:] = X_test_norm\n",
    "\n",
    "y_test = Y_test_norm.values"
   ]
  },
  {
   "cell_type": "markdown",
   "metadata": {},
   "source": [
    "### Vanilla"
   ]
  },
  {
   "cell_type": "code",
   "execution_count": 155,
   "metadata": {},
   "outputs": [
    {
     "name": "stdout",
     "output_type": "stream",
     "text": [
      "MIN:0.00 MAX:483.10\n"
     ]
    }
   ],
   "source": [
    "error_van = np.abs(x_test.dot(theta_vanilla) - y_test)\n",
    "print(\"MIN:{:.2f} MAX:{:.2f}\".format(min(error_van)[0],max(error_van)[0]))"
   ]
  },
  {
   "cell_type": "markdown",
   "metadata": {},
   "source": [
    "### Sklearn"
   ]
  },
  {
   "cell_type": "code",
   "execution_count": 156,
   "metadata": {},
   "outputs": [
    {
     "name": "stdout",
     "output_type": "stream",
     "text": [
      "MIN:0.0000 MAX:0.0013\n"
     ]
    }
   ],
   "source": [
    "y_pred = clf.predict(x_test)\n",
    "error_sk = np.abs(y_pred.reshape(y_pred.shape[0],1) - y_test)\n",
    "print(\"MIN:{:.4f} MAX:{:.4f}\".format(min(error_sk)[0],max(error_sk)[0]))"
   ]
  },
  {
   "cell_type": "markdown",
   "metadata": {},
   "source": [
    "### Mini-Batch"
   ]
  },
  {
   "cell_type": "code",
   "execution_count": 157,
   "metadata": {},
   "outputs": [
    {
     "name": "stdout",
     "output_type": "stream",
     "text": [
      "MIN:0.0000 MAX:1.4657\n"
     ]
    }
   ],
   "source": [
    "error_mb = np.abs(x_test.dot(theta_mb) - y_test)\n",
    "print(\"MIN:{:.4f} MAX:{:.4f}\".format(min(error_mb)[0],max(error_mb)[0]))"
   ]
  },
  {
   "cell_type": "markdown",
   "metadata": {},
   "source": [
    "### Normal Function"
   ]
  },
  {
   "cell_type": "code",
   "execution_count": 158,
   "metadata": {},
   "outputs": [
    {
     "name": "stdout",
     "output_type": "stream",
     "text": [
      "MIN:0.0000 MAX:0.0184\n"
     ]
    }
   ],
   "source": [
    "error_nf = np.abs(x_test.dot(theta_normal) - y_test)\n",
    "print(\"MIN:{:.4f} MAX:{:.4f}\".format(min(error_nf)[0],max(error_nf)[0]))"
   ]
  },
  {
   "cell_type": "code",
   "execution_count": null,
   "metadata": {},
   "outputs": [],
   "source": []
  }
 ],
 "metadata": {
  "kernelspec": {
   "display_name": "Python 3",
   "language": "python",
   "name": "python3"
  },
  "language_info": {
   "codemirror_mode": {
    "name": "ipython",
    "version": 3
   },
   "file_extension": ".py",
   "mimetype": "text/x-python",
   "name": "python",
   "nbconvert_exporter": "python",
   "pygments_lexer": "ipython3",
   "version": "3.7.3"
  }
 },
 "nbformat": 4,
 "nbformat_minor": 2
}
